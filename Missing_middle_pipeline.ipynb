{
 "cells": [
  {
   "cell_type": "markdown",
   "id": "4c87dc97",
   "metadata": {},
   "source": [
    "# Middle Income Renters and Homeowners in California\n",
    "\n",
    "Analysis to better understand the current economic state and composition of Middle Income Renters and Homeowners (80-120% of AMI) in California. \n",
    "\n",
    "Final paper here: https://ternercenter.berkeley.edu/wp-content/uploads/2022/04/Landscape-of-Middle-Income-Housing-Affordability-April-2022.pdf\n",
    "\n",
    "The notebook is broken up into sections. Functions are kept within the notebook for ease of code review:\n",
    "\n",
    "0. [Load and Clean ACS Household Data](#section0)\n",
    "\n",
    "1. [Renter and Mortgage Holder Cost Burden Charts ](#section1)\n",
    "    - Charts 3A and 3B, respectively, in the Missing Middle Brief \n",
    "2. [Load and Clean ACS Person Level Data](#section2)\n",
    "\n",
    "3. [Trends in Entry Level Housing Prices](#section3)\n",
    "    - Chart 5 in Missing Middle Brief \n",
    "    \n",
    "4. [Share of Middle-Income Renters Paying More than 30% of Income in Rent, 2010 & 2019, by Race](#section4)\n",
    "    - Chart 7 in Missing Middle Brief \n",
    "    \n",
    "5. [Number of Home Purchase Loans Originated, by Race/Ethnicity, 2020](#section5)\n",
    "    - Chart 8 in Missing Middle Brief \n",
    " \n",
    " \n",
    "Data from:\n",
    "- 2019 and 2010 PUMS https://www2.census.gov/programs-surveys/acs/data/pums/\n",
    "- HCD AMI Limits https://www.hcd.ca.gov/grants-funding/income-limits/state-and-federal-income-limits/docs/income-limits-2019.pdf\n",
    "- Geography Crosswalks from MCDC http://mcdc.missouri.edu/applications/geocorr2018.html\n",
    "- 2020 HMDA https://cfpb.github.io/hmda-platform/#hmda-api-documentation "
   ]
  },
  {
   "cell_type": "code",
   "execution_count": 21,
   "id": "42694edc",
   "metadata": {},
   "outputs": [
    {
     "data": {
      "text/plain": [
       "RendererRegistry.enable('altair_saver')"
      ]
     },
     "execution_count": 21,
     "metadata": {},
     "output_type": "execute_result"
    }
   ],
   "source": [
    "import pandas as pd\n",
    "import numpy as np\n",
    "import warnings\n",
    "import wquantiles as wq\n",
    "from statistics import mean\n",
    "import os\n",
    "import altair as alt\n",
    "from urllib.request import urlopen\n",
    "import zipfile\n",
    "import altair_viewer\n",
    "pd.set_option('display.max_columns', None)\n",
    "pd.options.display.float_format = '{:.2f}'.format\n",
    "warnings.filterwarnings('ignore')\n",
    "\n",
    "#NOTE only need below change to altair rendering to have static altair images render on github \n",
    "#b/c github scrubs javascript CAN REMOVE if running locally\n",
    "#Also, if you do want this to work for some reason, need to have selenium/chromedriver installed \n",
    "alt.renderers.enable('altair_saver', fmts=['vega-lite', 'png'])"
   ]
  },
  {
   "cell_type": "markdown",
   "id": "42ecc9c5",
   "metadata": {},
   "source": [
    "<div id=\"section0\"></div>\n",
    "\n",
    "# Load and Clean PUMS Data"
   ]
  },
  {
   "cell_type": "code",
   "execution_count": 2,
   "id": "4e45719f",
   "metadata": {},
   "outputs": [],
   "source": [
    "def check_for_PUMS_download(filename,zip_location,zip_name,file_type_dict={}):\n",
    "    \"\"\"\n",
    "    inputs:\n",
    "        filename (str) - name of csv downloaded from PUMS \n",
    "        zip_location (str) - location of zip file (can edit URL for year/version of data)\n",
    "        zip_name (str) - name of the zip file downloaded from the zip location to open \n",
    "        \n",
    "    here checking to see if 2019 1-year PUMS data is in the current directory, if not, downloading and unzipping \n",
    "    it to the current directory (can place is somewhere else by modifying filepath of zip_directory)\n",
    "    \"\"\"\n",
    "    if os.path.isfile(filename):\n",
    "        df = pd.read_csv(filename,dtype=file_type_dict)\n",
    "        return df\n",
    "    else:\n",
    "        PUMS_url = zip_location\n",
    "        zip_directory = os.getcwd() \n",
    "        url = urlopen(PUMS_url)\n",
    "        output = open(zip_name, 'wb')           \n",
    "        output.write(url.read())\n",
    "        output.close()\n",
    "        with zipfile.ZipFile(zip_name, 'r') as zip_ref:\n",
    "            zip_ref.extractall(zip_directory)\n",
    "        df = pd.read_csv(filename,dtype=file_type_dict)\n",
    "    return df\n",
    "file_type_dict = {\"PUMA\":str,\"WGTP\":float}\n",
    "df_2019 = check_for_PUMS_download('./psam_h06.csv',\n",
    "                                  \"https://www2.census.gov/programs-surveys/acs/data/pums/2019/1-Year/csv_hca.zip\",\n",
    "                                  \"./pums_2019.zip\",file_type_dict)\n",
    "df_2010 = check_for_PUMS_download('./ss10hca.csv',\n",
    "                                  \"https://www2.census.gov/programs-surveys/acs/data/pums/2010/1-Year/csv_hca.zip\",\n",
    "                                  './pums_2010.zip',file_type_dict)"
   ]
  },
  {
   "cell_type": "code",
   "execution_count": 3,
   "id": "f4158021",
   "metadata": {},
   "outputs": [],
   "source": [
    "#rename columns and only keep subset (extra cols were for some exploratory analysis) \n",
    "def rename_cols(df):\n",
    "    \"\"\"\n",
    "    inputs:\n",
    "        df (dataframe): PUMS data\n",
    "    Renames columns with more verbose names and returns subset of columns\n",
    "    \"\"\"\n",
    "    df.rename(columns={\"RT\":\"record_type\",\n",
    "                     \"TYPE\":\"type\",\n",
    "                     \"BLD\":\"units_in_structure\",\n",
    "                     \"BDSP\":\"number_bedrooms\",\n",
    "                     \"RNTP\":\"monthly_rent\",\n",
    "                     \"MRGP\":\"first_mortgage\",\n",
    "                     \"SMP\":\"second_mortgage\",\n",
    "                     \"TEN\":\"tenure\",\n",
    "                     \"VACS\":\"vacancy_status\",\n",
    "                     \"VALP\":\"property_value\",\n",
    "                     \"GRPIP\":\"gross_rent_pct_of_income\",\n",
    "                     \"GRNTP\":\"gross_rent\",\n",
    "                     \"SMOCP\":\"select_owner_cost\",\n",
    "                     \"OCPIP\":\"select_owner_cost_pct_of_income\",\n",
    "                     \"HINCP\":\"hh_income\",\n",
    "                     \"NP\":\"ppl_in_hh\",\n",
    "                     \"NRC\":\"num_relate_chldrn\",\n",
    "                     \"NOC\":\"num_own_chldrn\",\n",
    "                     \"WGTP\":\"weight\",\n",
    "                     \"YBL\": \"year_built\",\n",
    "                     }, inplace=True)\n",
    "\n",
    "    df = df[[\"SERIALNO\",\"hh_income\",\"first_mortgage\",\"select_owner_cost\",\"gross_rent_pct_of_income\",\n",
    "             \"select_owner_cost_pct_of_income\",\"second_mortgage\",\"ppl_in_hh\",'PUMA',\"gross_rent\",\n",
    "             \"monthly_rent\",\"weight\",\"year_built\",\"tenure\",\"property_value\"]]\n",
    "    return df \n",
    "\n",
    "df_2019 = rename_cols(df_2019)\n",
    "df_2010 = rename_cols(df_2010)\n",
    "#to calc ami ranges we need household income, safely drop (this drop 16382 records from 2010;24148 from 2019 )\n",
    "df_2019 = df_2019.dropna(subset=[\"hh_income\"])\n",
    "df_2010 = df_2010.dropna(subset=[\"hh_income\"])"
   ]
  },
  {
   "cell_type": "markdown",
   "id": "c99076e0",
   "metadata": {},
   "source": [
    "### Crosswalk and Weighting "
   ]
  },
  {
   "cell_type": "code",
   "execution_count": 4,
   "id": "0b4b6622",
   "metadata": {},
   "outputs": [],
   "source": [
    "#import and clean a PUMA to county crosswalk from mcdc for both 2010 and 2019 (need both b/c pumas change)\n",
    "def import_clean_crosswalk(location,county_col,puma_col):\n",
    "    \"\"\"\n",
    "    inputs:\n",
    "        location (str): Location of crosswalk csv\n",
    "        county_col (str): name of column with counties \n",
    "        puma_col (str): name of column with PUMAs\n",
    "    Reads in and cleans up crosswalk files from geocorr, returning subset of columns\n",
    "    \"\"\"\n",
    "    #PUMA - County Crosswalk URL generated from https://mcdc.missouri.edu/applications/geocorr2018.html with puma12 & county14\n",
    "    crosswalk_county = pd.read_csv(location)\n",
    "    crosswalk_county = crosswalk_county.iloc[1:]\n",
    "    crosswalk_county[\"afact\"] = crosswalk_county[\"afact\"].astype(float)\n",
    "    crosswalk_county[county_col] = crosswalk_county[county_col].str.replace(r' CA', '')\n",
    "    crosswalk_county = crosswalk_county[[puma_col,county_col,\"afact\"]]\n",
    "    crosswalk_county.rename(columns={puma_col:\"PUMA\",county_col:\"County\"},inplace=True)\n",
    "    return crosswalk_county\n",
    "\n",
    "#create PUMA county crosswalk for the seperate years \n",
    "crosswalk_county_2019 = import_clean_crosswalk(\"geocorr2018_2115904557.csv\",'cntyname2',\"puma12\")\n",
    "crosswalk_county_2010 = import_clean_crosswalk(\"geocorr_old_pumas.csv\",\"cntyname\",\"puma2k\")"
   ]
  },
  {
   "cell_type": "code",
   "execution_count": 5,
   "id": "d33423c3",
   "metadata": {},
   "outputs": [],
   "source": [
    "def crosswalk_weighting(df,crosswalk,geo_type,split_col):\n",
    "    \"\"\"\n",
    "    inputs:\n",
    "        df (dataframe): PUMS data \n",
    "        crosswalk (dataframe): crosswalk of PUMAs to Counties with weights \n",
    "        puma_col (str): name of column with PUMAs\n",
    "        geo_type (str): name of column of type of geography to match on\n",
    "        split_col(str or list): name of column being split across geographies. \n",
    "        Can also be passed as a list of multiple cols \n",
    "                                \n",
    "    Takes a df with a geography and target value(s), and crosswalks to a many to many \n",
    "    mapping and multiplies by the weights.\n",
    "    This is simplisitic and assumes that you can split your split_col evenly based on the \n",
    "    weighting across a given geography which is likely unrealistic. \n",
    "    \"\"\"\n",
    "    weighted_crosswalks = crosswalk[crosswalk.afact != 0]\n",
    "    weighted_crosswalks_PUMA = weighted_crosswalks[geo_type].unique()\n",
    "    df_weighted = df[df[geo_type].isin(weighted_crosswalks_PUMA)]\n",
    "    df_weighted = df_weighted.merge(weighted_crosswalks, on=geo_type,how=\"left\")\n",
    "    if isinstance(split_col,list):\n",
    "        for i in split_col:\n",
    "            df_weighted[i] = df_weighted[i] * df_weighted[\"afact\"]\n",
    "            df_weighted = df_weighted[df_weighted[i] != 0]\n",
    "\n",
    "    elif isinstance(split_col,str):\n",
    "        df_weighted[split_col] = df_weighted[split_col] * df_weighted[\"afact\"]\n",
    "        df_weighted = df_weighted[df_weighted[split_col] != 0]\n",
    "    else:\n",
    "        print(type(split_col),\" is wrong type for split_col\")\n",
    "\n",
    "    full_data = df_weighted.drop_duplicates()\n",
    "    return full_data\n",
    "\n",
    "df_2019 = crosswalk_weighting(df_2019,crosswalk_county_2019,\"PUMA\",\"weight\")\n",
    "df_2010 = crosswalk_weighting(df_2010,crosswalk_county_2010,\"PUMA\",\"weight\")"
   ]
  },
  {
   "cell_type": "code",
   "execution_count": 6,
   "id": "3c7df47a",
   "metadata": {},
   "outputs": [],
   "source": [
    "#merge on AMI bands for county/year/household size combos\n",
    "AMI=pd.read_csv(\"CA_AMI_wide.csv\")#csv with HCD AMI Bands from HCD website \n",
    "AMI=AMI[AMI.year.isin([2010,2019])]\n",
    "#reshape data \n",
    "amelti = AMI.melt(id_vars=['county_name',  'year'])\n",
    "amelti['hh'] = amelti.variable.apply(lambda x: x.split('_')[0])\n",
    "amelti['idk'] = amelti.variable.apply(lambda x: x.split('_')[1])\n",
    "amelti = amelti.pivot_table(index=['county_name','year', 'hh'], columns=['idk'], values='value').reset_index()\n",
    "amelti['ppl_in_hh'] = amelti.hh.apply(lambda x: int(x.replace('hh','')))\n",
    "#adjust for a weird quick in AMI calculations where sometimes 80% AMI is higher than 100% AMI\n",
    "amelti[\"LI80\"] = np.where(amelti[\"LI80\"] > amelti[\"MED100\"],amelti[\"MED100\"],amelti[\"LI80\"])"
   ]
  },
  {
   "cell_type": "code",
   "execution_count": 7,
   "id": "d2038f2b",
   "metadata": {},
   "outputs": [],
   "source": [
    "#merge 2010 and 2019 data \n",
    "df_2010['year'] = 2010\n",
    "df_2019['year'] = 2019\n",
    "df = df_2010.append(df_2019, ignore_index=True)"
   ]
  },
  {
   "cell_type": "markdown",
   "id": "ee17a215",
   "metadata": {},
   "source": [
    "### Calculate weighted percentage of renters and homeowners that are cost burdened "
   ]
  },
  {
   "cell_type": "code",
   "execution_count": 8,
   "id": "e78043bf",
   "metadata": {},
   "outputs": [],
   "source": [
    "def calc_burdern(df,variable,final_variable_name,mid=False):\n",
    "    \"\"\"\n",
    "    Inputs:\n",
    "        df (dataframe) - PUMS data\n",
    "        variable (str) - name of PUMS variable to check for financial burden\n",
    "                         in this likely gross_rent or select_owner_cost\n",
    "        final_variable_name (str) - name of new column for type of burden \n",
    "        mid (bool) - True if you want to filter for just middle income, false if want all AMI Bands \n",
    "    Calculate percent burdended (>30 of income to rent or home ownership costs) of each AMI Band, filtering for just \n",
    "    middle income in mid=True\n",
    "    \"\"\"\n",
    "    df = df.dropna(subset=[\"hh_income\",variable])\n",
    "    df = df[df['hh_income'] >=0] #drop negative hh income  \n",
    "    df = df[(df.gross_rent != ' ')] \n",
    "    df = pd.merge(df, amelti, on=[ 'year', 'ppl_in_hh'], how='left')\n",
    "    df['elow_income'] = np.where((df[\"hh_income\"] < df[\"ELI30\"]), 1, 0)\n",
    "    df['vlow_income'] = np.where((df[\"hh_income\"] >= df[\"ELI30\"])&(df[\"hh_income\"] < df[\"VLI50\"]), 1, 0)\n",
    "    df['low_income'] = np.where((df[\"hh_income\"] >= df[\"VLI50\"])&(df[\"hh_income\"] < df[\"LI80\"]), 1, 0)\n",
    "    df['middle_income'] = np.where((df[\"hh_income\"] >= df[\"LI80\"])&(df[\"hh_income\"] < df[\"MOD120\"]), 1, 0)\n",
    "    df['high_income'] = np.where((df[\"hh_income\"] >= df[\"MOD120\"]), 1, 0)\n",
    "    if mid == True:\n",
    "        df = df[df.middle_income==1]\n",
    "    df['monthly_income'] = df.hh_income/12\n",
    "    df[variable+'_percent'] = df[variable]/df['monthly_income']\n",
    "    df[final_variable_name] = np.where(df[variable+'_percent']>.3,1,0)\n",
    "    return df\n",
    "    \n",
    "df_mid_mortgage_burden = calc_burdern(df,\"select_owner_cost\",'Mortgage_Burdened',mid=True)    \n",
    "df_mid_rent_burden = calc_burdern(df,\"gross_rent\",'Rent_Burdened',mid=True)  \n",
    "\n",
    "df_mortgage_burden_chart = calc_burdern(df,\"select_owner_cost\",'Mortgage_Burdened',mid=False)\n",
    "df_rent_burden_chart = calc_burdern(df,\"gross_rent\",'Rent_Burdened',mid=False)"
   ]
  },
  {
   "cell_type": "code",
   "execution_count": 9,
   "id": "c304fc5b",
   "metadata": {},
   "outputs": [],
   "source": [
    "#the below reshapes data to make bar charts \n",
    "\n",
    "def status_col(burden,sev_burden):\n",
    "    \"\"\"\n",
    "    Small lambda function to return strings stating burden status \n",
    "    \"\"\"\n",
    "    if sev_burden == 1:\n",
    "        return \"Share Severely Burdened\"\n",
    "    if burden==1:\n",
    "        return \"Share Burdened\"\n",
    "    else:\n",
    "        return \"Not Burdened\"\n",
    "\n",
    "def make_income_chart_correct(df,variable,input_year,chart3=True):\n",
    "    \"\"\"\n",
    "    inputs:\n",
    "        df (dataframe): PUMS data\n",
    "        variable (str): Which variable (rent or mortgage) that you want to calculate share burdened for. \n",
    "        input_year (int): Which year to be analyized (in current format of notebook, either 2010 or 2019)\n",
    "    Returns data in correct format for bar chart\n",
    "    \n",
    "    \"\"\"\n",
    "    df = df[df.year == input_year]\n",
    "    df[\"Share Burdened\"] = np.where((df[variable] > .3)&(df[variable] <= .5),1,0)\n",
    "    df[\"Share Severely Burdened\"] = np.where(df[variable] > .5,1,0)\n",
    "    #if variable == \"gross_rent_percent\":\n",
    "    #    df = df[df.tenure==1]\n",
    "    \n",
    "    if chart3 == True:\n",
    "        meltby = ['Share Burdened', 'Share Severely Burdened']\n",
    "        county_col = []\n",
    "    else:\n",
    "        meltby = ['Share Burdened', 'Share Severely Burdened',\"county_name\"]\n",
    "        county_col = [\"county_name\"]\n",
    "    df_graph = df[[\"weight\",'elow_income', 'vlow_income', 'low_income', 'middle_income',\n",
    "           'high_income', 'Share Burdened', 'Share Severely Burdened']+county_col]\n",
    "    income_types = ['elow_income', 'vlow_income', 'low_income', 'middle_income','high_income']\n",
    "    df_graph[income_types] = df_graph[income_types].multiply(df_graph[\"weight\"], axis=\"index\") \n",
    "    df_graph = df_graph.drop(columns=[\"weight\"])\n",
    "    df_graph = df_graph.melt(id_vars=meltby)\n",
    "    df_graph = df_graph.groupby([\"Share Burdened\",\"Share Severely Burdened\",\"variable\"]+county_col).sum().reset_index()\n",
    "\n",
    "    df_graph['Status'] = df_graph[[\"Share Burdened\",\"Share Severely Burdened\"]].apply(lambda x: status_col(x[\"Share Burdened\"],x[\"Share Severely Burdened\"]), axis=1)\n",
    "    df_graph.drop(columns=[\"Share Burdened\",\"Share Severely Burdened\"],inplace=True)\n",
    "\n",
    "    df_graph = df_graph.groupby([\"variable\",\"Status\"]).sum()\n",
    "    df_graph[\"percent\"] = df_graph.groupby(level=0).apply(lambda x: 100 * x / float(x.sum()))\n",
    "    df_graph = df_graph.reset_index()\n",
    "\n",
    "    df_graph_totals = df_graph.groupby(\"Status\").sum().reset_index()\n",
    "    df_graph_totals[\"percent\"] = (df_graph_totals[\"value\"]/df_graph_totals[\"value\"].sum())*100\n",
    "    df_graph_totals[\"variable\"] = \"Total\"\n",
    "    final_graph = pd.concat([df_graph,df_graph_totals])\n",
    "    final_graph[\"year\"] = input_year\n",
    "    final_graph.replace({\"variable\":{'elow_income':\"Extremely Low Income\", \n",
    "                                    'high_income':\"High Incomes\", \n",
    "                                    'low_income':\"Low Income\", \n",
    "                                    'middle_income':\"Middle Income\",\n",
    "                                    'vlow_income':\"Very Low Income\", \n",
    "                                    'Total':\"All Incomes\"}},inplace=True)\n",
    "    final_graph = final_graph[final_graph.variable !=\"High Incomes\"]\n",
    "    final_graph = final_graph[final_graph.Status !=\"Not Burdened\"]  \n",
    "    \n",
    "    if variable == \"gross_rent_percent\":\n",
    "        final_graph[\"Household Type\"] = \"Renter\"\n",
    "        \n",
    "    if variable == \"select_owner_cost_percent\":\n",
    "        final_graph[\"Household Type\"] = \"Mortgage Holder\"\n",
    "    \n",
    "    return final_graph \n",
    "\n",
    "#call function to make bar chart shaped data for renters and homeowners \n",
    "pivot_rent_2010 =make_income_chart_correct(df_rent_burden_chart,\"gross_rent_percent\",2010)\n",
    "pivot_rent_2019 =make_income_chart_correct(df_rent_burden_chart,\"gross_rent_percent\",2019)\n",
    "\n",
    "pivot_mortgage_2010 =make_income_chart_correct(df_mortgage_burden_chart,\"select_owner_cost_percent\",2010)\n",
    "pivot_mortgage_2019 =make_income_chart_correct(df_mortgage_burden_chart,\"select_owner_cost_percent\",2019)\n",
    "\n",
    "#combine 2010 and 2019 data \n",
    "all_together = pd.concat([pivot_rent_2019,pivot_rent_2010,pivot_mortgage_2010,pivot_mortgage_2019])\n",
    "all_together.rename(columns={\"value\":\"Total Households\",\n",
    "                            \"variable\":\"AMI\"},inplace=True)\n",
    "all_together[\"Total Households\"] = all_together[\"Total Households\"].round(0)\n",
    "\n",
    "all_together_renter = all_together[all_together[\"Household Type\"]==\"Renter\"]\n",
    "all_together_owner = all_together[all_together[\"Household Type\"]==\"Mortgage Holder\"]\n",
    "all_together_renter = all_together_renter[all_together_renter.AMI == \"Middle Income\"]"
   ]
  },
  {
   "cell_type": "markdown",
   "id": "a5d87cc8",
   "metadata": {},
   "source": [
    "<div id=\"section1\"></div>\n",
    "\n",
    "# Renter and Homeowner Cost Burden "
   ]
  },
  {
   "cell_type": "markdown",
   "id": "b334c4f3",
   "metadata": {},
   "source": [
    "### Figure 3A "
   ]
  },
  {
   "cell_type": "code",
   "execution_count": 10,
   "id": "1f55ebfb",
   "metadata": {},
   "outputs": [],
   "source": [
    "df_mortgage_burden_chart_total_count = df_mortgage_burden_chart[df_mortgage_burden_chart.year == 2019]"
   ]
  },
  {
   "cell_type": "code",
   "execution_count": 11,
   "id": "2c1b3f4b",
   "metadata": {},
   "outputs": [],
   "source": [
    "#calculate total number of renters and owners \n",
    "number_owners = df_2019[[\"tenure\",\"weight\"]].groupby(\"tenure\").sum().reset_index()[0:2][\"weight\"].sum()\n",
    "number_renters = df_2019[[\"tenure\",\"weight\"]].groupby(\"tenure\").sum().reset_index()[2:3][\"weight\"].sum()"
   ]
  },
  {
   "cell_type": "code",
   "execution_count": 12,
   "id": "28aa02ad",
   "metadata": {},
   "outputs": [],
   "source": [
    "#calculate total percentage of owners and renters, respectively, that were cost burdened \n",
    "total_percent_owners_cost_burdened = pivot_mortgage_2019[pivot_mortgage_2019[\"variable\"] == \"All Incomes\"][\"percent\"].sum()\n",
    "total_percent_renter_cost_burdened = pivot_rent_2019[pivot_rent_2019[\"variable\"] == \"All Incomes\"][\"percent\"].sum()"
   ]
  },
  {
   "cell_type": "code",
   "execution_count": 13,
   "id": "9076ef6a",
   "metadata": {},
   "outputs": [],
   "source": [
    "#calculate total number of burdened renters and owners \n",
    "number_cost_burdened_renters = (total_percent_renter_cost_burdened/100) *number_renters\n",
    "number_cost_burdened_owners = (total_percent_owners_cost_burdened/100)*number_owners\n",
    "total_burdened = number_cost_burdened_owners +number_cost_burdened_renters"
   ]
  },
  {
   "cell_type": "code",
   "execution_count": 14,
   "id": "d721a27c",
   "metadata": {},
   "outputs": [
    {
     "data": {
      "text/plain": [
       "0.39499704992317086"
      ]
     },
     "execution_count": 14,
     "metadata": {},
     "output_type": "execute_result"
    }
   ],
   "source": [
    "#this is the percent of all households, renters or owners, that are cost burdened in 2019\n",
    "total_burdened/df_2019[\"weight\"].sum()#note, not that outcome changes very much\n",
    "#this uses the total of all tenure types, includes the 171,392 households that\n",
    "#who housing is \"Occupied without payment of rent\". Technically, these households are not cost burdened \n",
    "#as they pay no cost, so keeping them in denominator seemed reasonable "
   ]
  },
  {
   "cell_type": "code",
   "execution_count": 15,
   "id": "82419725",
   "metadata": {},
   "outputs": [],
   "source": [
    "pivot_rent_2019[\"percentage_for_chart\"] = (pivot_rent_2019[\"percent\"]/100).round(2)\n",
    "pivot_rent_2019[\"text\"] = pivot_rent_2019[\"percentage_for_chart\"]\n",
    "big_cols = pivot_rent_2019.groupby([\"variable\"]).sum().reset_index()[[\"variable\",\"percentage_for_chart\"]]\n",
    "dict3a = dict(zip(big_cols[\"variable\"],big_cols[\"percentage_for_chart\"]))\n",
    "\n",
    "pivot_rent_2019.at[2,\"text\"] = dict3a[\"Extremely Low Income\"]\n",
    "pivot_rent_2019.at[8,\"text\"] = dict3a[\"Low Income\"]\n",
    "pivot_rent_2019.at[11,\"text\"] = dict3a[\"Middle Income\"]\n",
    "pivot_rent_2019.at[14,\"text\"] = dict3a[\"Very Low Income\"]"
   ]
  },
  {
   "cell_type": "code",
   "execution_count": 39,
   "id": "d2643693",
   "metadata": {},
   "outputs": [
    {
     "data": {
      "application/vnd.vegalite.v4+json": {
       "$schema": "https://vega.github.io/schema/vega-lite/v4.17.0.json",
       "config": {
        "axis": {
         "domain": false,
         "labelFont": "Georgia",
         "labelFontSize": 15,
         "titleFont": "Georgia",
         "titleFontSize": 15,
         "titleFontWeight": "normal"
        },
        "legend": {
         "labelFont": "Georgia",
         "labelFontSize": 20,
         "labelLimit": 0,
         "orient": "bottom",
         "titleFont": "Georgia",
         "titleFontSize": 18,
         "titleLimit": 0
        },
        "title": {
         "anchor": "middle",
         "font": "Georgia",
         "fontSize": 20
        },
        "view": {
         "continuousHeight": 300,
         "continuousWidth": 400
        }
       },
       "data": {
        "name": "data-41a3392740cd51bb7de2ddc56e5e804c"
       },
       "datasets": {
        "data-41a3392740cd51bb7de2ddc56e5e804c": [
         {
          "Household Type": "Renter",
          "Status": "Share Burdened",
          "percent": 14.78309743513708,
          "percentage_for_chart": 0.15,
          "text": 0.15,
          "value": 10074568.853500051,
          "variable": "Extremely Low Income",
          "year": 2019
         },
         {
          "Household Type": "Renter",
          "Status": "Share Severely Burdened",
          "percent": 76.97389997429673,
          "percentage_for_chart": 0.77,
          "text": 0.92,
          "value": 52457129.40850189,
          "variable": "Extremely Low Income",
          "year": 2019
         },
         {
          "Household Type": "Renter",
          "Status": "Share Burdened",
          "percent": 41.50508417658645,
          "percentage_for_chart": 0.42,
          "text": 0.42,
          "value": 23546643.382500447,
          "variable": "Low Income",
          "year": 2019
         },
         {
          "Household Type": "Renter",
          "Status": "Share Severely Burdened",
          "percent": 27.085635497953152,
          "percentage_for_chart": 0.27,
          "text": 0.69,
          "value": 15366209.044300055,
          "variable": "Low Income",
          "year": 2019
         },
         {
          "Household Type": "Renter",
          "Status": "Share Burdened",
          "percent": 38.69094365199425,
          "percentage_for_chart": 0.39,
          "text": 0.39,
          "value": 19854614.829099946,
          "variable": "Middle Income",
          "year": 2019
         },
         {
          "Household Type": "Renter",
          "Status": "Share Severely Burdened",
          "percent": 10.006501660769002,
          "percentage_for_chart": 0.1,
          "text": 0.49,
          "value": 5134928.681199977,
          "variable": "Middle Income",
          "year": 2019
         },
         {
          "Household Type": "Renter",
          "Status": "Share Burdened",
          "percent": 34.43489096922207,
          "percentage_for_chart": 0.34,
          "text": 0.34,
          "value": 14028148.069700122,
          "variable": "Very Low Income",
          "year": 2019
         },
         {
          "Household Type": "Renter",
          "Status": "Share Severely Burdened",
          "percent": 48.45134315859961,
          "percentage_for_chart": 0.48,
          "text": 0.8200000000000001,
          "value": 19738195.67520014,
          "variable": "Very Low Income",
          "year": 2019
         },
         {
          "Household Type": "Renter",
          "Status": "Share Burdened",
          "percent": 24.994599156340442,
          "percentage_for_chart": 0.25,
          "text": 0.25,
          "value": 83418795.4752006,
          "variable": "All Incomes",
          "year": 2019
         },
         {
          "Household Type": "Renter",
          "Status": "Share Severely Burdened",
          "percent": 28.101269944475376,
          "percentage_for_chart": 0.28,
          "text": 0.92,
          "value": 93787224.80920206,
          "variable": "All Incomes",
          "year": 2019
         }
        ]
       },
       "layer": [
        {
         "encoding": {
          "color": {
           "field": "Status",
           "scale": {
            "domain": [
             "Share Burdened",
             "Share Severely Burdened"
            ],
            "range": [
             "#4E748B",
             "#FFB81D"
            ]
           },
           "sort": [
            "Share Burdened",
            "Share Severely Burdened"
           ],
           "title": null,
           "type": "nominal"
          },
          "order": {
           "field": "Status",
           "sort": "ascending",
           "type": "nominal"
          },
          "x": {
           "axis": {
            "labelAngle": 360
           },
           "field": "variable",
           "sort": [
            "Extremely Low Income",
            "Very Low Income",
            "Low Income",
            "Middle Income",
            "All Incomes"
           ],
           "title": "",
           "type": "ordinal"
          },
          "y": {
           "axis": {
            "format": "%"
           },
           "field": "percentage_for_chart",
           "scale": {
            "domain": [
             0,
             1
            ]
           },
           "sort": [
            "Share Burdened",
            "Share Severely Burdened"
           ],
           "title": "Percent of Homeowner Households",
           "type": "quantitative"
          }
         },
         "mark": "bar"
        },
        {
         "encoding": {
          "detail": {
           "field": "text",
           "type": "ordinal"
          },
          "opacity": {
           "condition": {
            "test": "datum.text < 43",
            "value": 1
           },
           "value": 0
          },
          "text": {
           "field": "text",
           "format": "~%",
           "type": "ordinal"
          },
          "x": {
           "field": "variable",
           "sort": [
            "Extremely Low Income",
            "Very Low Income",
            "Low Income",
            "Middle Income"
           ],
           "type": "ordinal"
          },
          "y": {
           "field": "text",
           "type": "quantitative"
          }
         },
         "mark": {
          "color": "white",
          "dy": 10,
          "fontSize": 14,
          "type": "text"
         }
        },
        {
         "encoding": {
          "detail": {
           "field": "text",
           "type": "ordinal"
          },
          "opacity": {
           "condition": {
            "test": "datum.text > 43 ",
            "value": 1
           },
           "value": 0
          },
          "text": {
           "field": "text",
           "format": "~%",
           "type": "ordinal"
          },
          "x": {
           "field": "variable",
           "sort": [
            "Extremely Low Income",
            "Very Low Income",
            "Low Income",
            "Middle Income"
           ],
           "type": "ordinal"
          },
          "y": {
           "field": "text",
           "type": "quantitative"
          }
         },
         "mark": {
          "color": "white",
          "dy": 8,
          "fontSize": 14,
          "type": "text"
         }
        }
       ],
       "title": {
        "text": [
         "Renter Cost Burden"
        ]
       },
       "width": 750
      },
      "image/png": "[encoded data removed]",
      "text/plain": [
       "alt.LayerChart(...)"
      ]
     },
     "execution_count": 39,
     "metadata": {},
     "output_type": "execute_result"
    }
   ],
   "source": [
    "bars3a = alt.Chart(pivot_rent_2019).mark_bar().encode(\n",
    "    alt.X('variable:O',sort=[\"Extremely Low Income\", \"Very Low Income\", \"Low Income\", \n",
    "                             \"Middle Income\", \"All Incomes\"],title=\"\",axis=alt.Axis( labelAngle=360)),\n",
    "    y=alt.Y('percentage_for_chart:Q',\n",
    "            axis=alt.Axis(format='%'),sort=[\"Share Burdened\",\n",
    "  \"Share Severely Burdened\"],title=\"Percent of Homeowner Households\", scale=alt.Scale(domain=[0, 1])),\n",
    "    color=alt.Color(\"Status\",sort=[\"Share Burdened\",\n",
    "                                   \"Share Severely Burdened\",],\n",
    "                    title=None,scale=alt.Scale(domain=[\"Share Burdened\",\n",
    "                                                       \"Share Severely Burdened\"],\n",
    "                                               range=[\"#4E748B\",\"#FFB81D\"])),\n",
    "    order=alt.Order(\n",
    "      'Status',\n",
    "      sort='ascending'\n",
    "    ))\n",
    "\n",
    "text3a = alt.Chart(pivot_rent_2019).mark_text(fontSize = 14,color='white',dy=10).encode(\n",
    "    x=alt.X('variable:O',sort=[\"Extremely Low Income\", \"Very Low Income\", \"Low Income\", \"Middle Income\"]),\n",
    "    y=alt.Y('text:Q'),\n",
    "    detail='text:O',\n",
    "    text=alt.Text('text:O',format='~%'),\n",
    "    opacity=alt.condition( 'datum.text < 43', alt.value(1), alt.value(0)\n",
    "))\n",
    "\n",
    "text2 = alt.Chart(pivot_rent_2019).mark_text(fontSize = 14,color='white',dy=8).encode(\n",
    "    x=alt.X('variable:O',sort=[\"Extremely Low Income\", \"Very Low Income\", \"Low Income\", \"Middle Income\"]),\n",
    "    y=alt.Y('text:Q'),\n",
    "    detail='text:O',\n",
    "    text=alt.Text('text:O',format='~%'),\n",
    "    opacity=alt.condition( 'datum.text > 43 ', alt.value(1), alt.value(0)\n",
    "))\n",
    "\n",
    "layer = alt.layer(\n",
    "    bars3a,\n",
    "    text3a,text2).properties(\n",
    "    title={\n",
    "      \"text\": [\"Renter Cost Burden\"]}).configure_legend(orient=\"bottom\",\n",
    "labelLimit= 0,titleLimit=0,titleFontSize=18,\n",
    "labelFontSize=20,labelFont=\"Georgia\",titleFont=\"Georgia\").configure_axis(domain=False,labelFont='Georgia',\n",
    "titleFont='Georgia',\n",
    "titleFontWeight=\"normal\",labelFontSize=15,titleFontSize=15).properties(\n",
    "    width=750).configure_title(fontSize=20,anchor=\"middle\",font=\"Georgia\")\n",
    "\n",
    "layer"
   ]
  },
  {
   "cell_type": "markdown",
   "id": "ba64fcc1",
   "metadata": {},
   "source": [
    "### Figure 3B"
   ]
  },
  {
   "cell_type": "code",
   "execution_count": 26,
   "id": "09dc4d59",
   "metadata": {},
   "outputs": [],
   "source": [
    "pivot_mortgage_2019[\"percentage_for_chart\"] = (pivot_mortgage_2019[\"percent\"]/100).round(2)\n",
    "pivot_mortgage_2019[\"text\"] = pivot_mortgage_2019[\"percentage_for_chart\"]\n",
    "big_cols = pivot_mortgage_2019.groupby([\"variable\"]).sum().reset_index()[[\"variable\",\"percentage_for_chart\"]]\n",
    "dict3a = dict(zip(big_cols[\"variable\"],big_cols[\"percentage_for_chart\"]))\n",
    "\n",
    "pivot_mortgage_2019.at[2,\"text\"] = dict3a[\"Extremely Low Income\"]\n",
    "pivot_mortgage_2019.at[8,\"text\"] = dict3a[\"Low Income\"]\n",
    "pivot_mortgage_2019.at[11,\"text\"] = dict3a[\"Middle Income\"]\n",
    "pivot_mortgage_2019.at[14,\"text\"] = dict3a[\"Very Low Income\"]"
   ]
  },
  {
   "cell_type": "code",
   "execution_count": 40,
   "id": "55ff7d75",
   "metadata": {},
   "outputs": [
    {
     "data": {
      "application/vnd.vegalite.v4+json": {
       "$schema": "https://vega.github.io/schema/vega-lite/v4.17.0.json",
       "config": {
        "axis": {
         "domain": false,
         "labelFont": "Georgia",
         "labelFontSize": 15,
         "titleFont": "Georgia",
         "titleFontSize": 15,
         "titleFontWeight": "normal"
        },
        "legend": {
         "labelFont": "Georgia",
         "labelFontSize": 20,
         "labelLimit": 0,
         "labelPadding": 100,
         "orient": "bottom",
         "titleFont": "Georgia",
         "titleFontSize": 18,
         "titleLimit": 0
        },
        "title": {
         "font": "Georgia",
         "fontSize": 20
        },
        "view": {
         "continuousHeight": 300,
         "continuousWidth": 400
        }
       },
       "data": {
        "name": "data-4e5fd6334792304317be8fe86a78d676"
       },
       "datasets": {
        "data-4e5fd6334792304317be8fe86a78d676": [
         {
          "Household Type": "Mortgage Holder",
          "Status": "Share Burdened",
          "percent": 14.418178480368699,
          "percentage_for_chart": 0.14,
          "text": 0.14,
          "value": 4328512.635499976,
          "variable": "Extremely Low Income",
          "year": 2019
         },
         {
          "Household Type": "Mortgage Holder",
          "Status": "Share Severely Burdened",
          "percent": 67.8015893691634,
          "percentage_for_chart": 0.68,
          "text": 0.8200000000000001,
          "value": 20354862.2102991,
          "variable": "Extremely Low Income",
          "year": 2019
         },
         {
          "Household Type": "Mortgage Holder",
          "Status": "Share Burdened",
          "percent": 25.755313115486537,
          "percentage_for_chart": 0.26,
          "text": 0.26,
          "value": 12657348.62530044,
          "variable": "Low Income",
          "year": 2019
         },
         {
          "Household Type": "Mortgage Holder",
          "Status": "Share Severely Burdened",
          "percent": 22.085992977112728,
          "percentage_for_chart": 0.22,
          "text": 0.48,
          "value": 10854075.490899814,
          "variable": "Low Income",
          "year": 2019
         },
         {
          "Household Type": "Mortgage Holder",
          "Status": "Share Burdened",
          "percent": 26.65115979075426,
          "percentage_for_chart": 0.27,
          "text": 0.27,
          "value": 15341457.621100016,
          "variable": "Middle Income",
          "year": 2019
         },
         {
          "Household Type": "Mortgage Holder",
          "Status": "Share Severely Burdened",
          "percent": 12.194462760967983,
          "percentage_for_chart": 0.12,
          "text": 0.39,
          "value": 7019613.222399955,
          "variable": "Middle Income",
          "year": 2019
         },
         {
          "Household Type": "Mortgage Holder",
          "Status": "Share Burdened",
          "percent": 23.576327554391252,
          "percentage_for_chart": 0.24,
          "text": 0.24,
          "value": 6610073.9829000905,
          "variable": "Very Low Income",
          "year": 2019
         },
         {
          "Household Type": "Mortgage Holder",
          "Status": "Share Severely Burdened",
          "percent": 35.71476755820028,
          "percentage_for_chart": 0.36,
          "text": 0.6,
          "value": 10013317.608399654,
          "variable": "Very Low Income",
          "year": 2019
         },
         {
          "Household Type": "Mortgage Holder",
          "Status": "Share Burdened",
          "percent": 16.672906456434884,
          "percentage_for_chart": 0.17,
          "text": 0.17,
          "value": 69864762.36140037,
          "variable": "All Incomes",
          "year": 2019
         },
         {
          "Household Type": "Mortgage Holder",
          "Status": "Share Severely Burdened",
          "percent": 12.934936107428799,
          "percentage_for_chart": 0.13,
          "text": 0.8200000000000001,
          "value": 54201481.887198485,
          "variable": "All Incomes",
          "year": 2019
         }
        ]
       },
       "layer": [
        {
         "encoding": {
          "color": {
           "field": "Status",
           "scale": {
            "domain": [
             "Share Burdened",
             "Share Severely Burdened"
            ],
            "range": [
             "#4E748B",
             "#FFB81D"
            ]
           },
           "sort": [
            "Share Burdened",
            "Share Severely Burdened"
           ],
           "title": null,
           "type": "nominal"
          },
          "order": {
           "field": "Status",
           "sort": "ascending",
           "type": "nominal"
          },
          "x": {
           "axis": {
            "labelAngle": 360
           },
           "field": "variable",
           "sort": [
            "Extremely Low Income",
            "Very Low Income",
            "Low Income",
            "Middle Income",
            "All Incomes"
           ],
           "title": "",
           "type": "ordinal"
          },
          "y": {
           "axis": {
            "format": "%"
           },
           "field": "percentage_for_chart",
           "scale": {
            "domain": [
             0,
             1
            ]
           },
           "sort": [
            "Share Burdened",
            "Share Severely Burdened"
           ],
           "title": "Percent of Homeowner Households",
           "type": "quantitative"
          }
         },
         "mark": "bar"
        },
        {
         "encoding": {
          "detail": {
           "field": "text",
           "type": "ordinal"
          },
          "opacity": {
           "condition": {
            "test": "datum.text < 30",
            "value": 1
           },
           "value": 0
          },
          "text": {
           "field": "text",
           "format": "~%",
           "type": "ordinal"
          },
          "x": {
           "field": "variable",
           "sort": [
            "Extremely Low Income",
            "Very Low Income",
            "Low Income",
            "Middle Income"
           ],
           "type": "ordinal"
          },
          "y": {
           "field": "text",
           "type": "quantitative"
          }
         },
         "mark": {
          "color": "white",
          "dy": 10,
          "fontSize": 14,
          "type": "text"
         }
        },
        {
         "encoding": {
          "detail": {
           "field": "text",
           "type": "ordinal"
          },
          "opacity": {
           "condition": {
            "test": "datum.text > 30 ",
            "value": 1
           },
           "value": 0
          },
          "text": {
           "field": "text",
           "format": "~%",
           "type": "ordinal"
          },
          "x": {
           "field": "variable",
           "sort": [
            "Extremely Low Income",
            "Very Low Income",
            "Low Income",
            "Middle Income"
           ],
           "type": "ordinal"
          },
          "y": {
           "field": "text",
           "type": "quantitative"
          }
         },
         "mark": {
          "color": "white",
          "dy": -20,
          "fontSize": 14,
          "type": "text"
         }
        }
       ],
       "title": {
        "text": [
         "Homeowner Cost Burden"
        ]
       },
       "width": 750
      },
      "image/png": "[encoded data removed]",
      "text/plain": [
       "alt.LayerChart(...)"
      ]
     },
     "execution_count": 40,
     "metadata": {},
     "output_type": "execute_result"
    }
   ],
   "source": [
    "chart3b = alt.Chart(pivot_mortgage_2019).mark_bar().encode(\n",
    "    alt.X('variable:O',sort=[\"Extremely Low Income\", \"Very Low Income\", \"Low Income\", \n",
    "                             \"Middle Income\", \"All Incomes\"],title=\"\",axis=alt.Axis( labelAngle=360)),\n",
    "    y=alt.Y('percentage_for_chart:Q',axis=alt.Axis(format='%'),sort=[\"Share Burdened\",\n",
    "        \"Share Severely Burdened\"],title=\"Percent of Homeowner Households\", scale=alt.Scale(domain=[0, 1])),\n",
    "    color=alt.Color(\"Status\",sort=[\"Share Burdened\",\n",
    "                                   \"Share Severely Burdened\",],\n",
    "                    title=None,scale=alt.Scale(domain=[\"Share Burdened\",\n",
    "                                                       \"Share Severely Burdened\"],\n",
    "                                               range=[\"#4E748B\",\"#FFB81D\"])),\n",
    "    order=alt.Order(\n",
    "      'Status',\n",
    "      sort='ascending'\n",
    "    ))\n",
    "\n",
    "\n",
    "text3b = alt.Chart(pivot_mortgage_2019).mark_text(fontSize = 14,color='white',dy=10).encode(\n",
    "    x=alt.X('variable:O',sort=[\"Extremely Low Income\", \"Very Low Income\", \"Low Income\", \"Middle Income\"]),\n",
    "    y=alt.Y('text:Q'),\n",
    "    detail='text:O',\n",
    "    text=alt.Text('text:O',format='~%'),\n",
    "    opacity=alt.condition( 'datum.text < 30', alt.value(1), alt.value(0)\n",
    "))\n",
    "\n",
    "text2b = alt.Chart(pivot_mortgage_2019).mark_text(fontSize = 14,color='white',dy=-20).encode(\n",
    "    x=alt.X('variable:O',sort=[\"Extremely Low Income\", \"Very Low Income\", \"Low Income\", \"Middle Income\"]),\n",
    "    y=alt.Y('text:Q'),\n",
    "    detail='text:O',\n",
    "    text=alt.Text('text:O',format='~%'),\n",
    "    opacity=alt.condition( 'datum.text > 30 ', alt.value(1), alt.value(0)\n",
    "))\n",
    "\n",
    "layer = alt.layer(\n",
    "    chart3b,\n",
    "    text3b,text2b).properties(\n",
    "    title={\n",
    "      \"text\": [\"Homeowner Cost Burden\"]}).configure_legend(orient=\"bottom\",labelPadding=100, \n",
    "                labelLimit= 0,titleLimit=0,titleFontSize=18,\n",
    "labelFontSize=20,labelFont=\"Georgia\",titleFont=\"Georgia\").configure_axis(domain=False,\n",
    "labelFont='Georgia',titleFont='Georgia',titleFontWeight=\"normal\",labelFontSize=15,titleFontSize=15).properties(\n",
    "    width=750\n",
    ").configure_title(fontSize=20,font=\"Georgia\")\n",
    "\n",
    "layer"
   ]
  },
  {
   "cell_type": "markdown",
   "id": "2cf0271b",
   "metadata": {},
   "source": [
    "<div id=\"section3\"></div>\n",
    "\n",
    "## Figure 5: Trends in Entry Level Housing Prices "
   ]
  },
  {
   "cell_type": "code",
   "execution_count": 41,
   "id": "f96c6c7b",
   "metadata": {},
   "outputs": [],
   "source": [
    "zillow_zhvi_low_tier_link = \"https://files.zillowstatic.com/research/public_csvs/zhvi/City_zhvi_uc_sfrcondo_tier_0.0_0.33_sm_sa_month.csv?t=1644951038\"\n",
    "zillow_zhvi_low_tier = pd.read_csv(zillow_zhvi_low_tier_link)\n",
    "low_tier_ca = zillow_zhvi_low_tier[zillow_zhvi_low_tier.StateName == \"CA\"]\n",
    "low_tier_ca = low_tier_ca[low_tier_ca.RegionName.isin([\"Los Angeles\",\"San Francisco\",\"Sacramento\"])]\n",
    "year_cols = list(low_tier_ca.columns[low_tier_ca.columns.str.contains(r'2010|2011|2012|2013|2014|2015|2016|2017|2018|2019|2020|2021')])\n",
    "low_tier_ca = low_tier_ca[[\"RegionName\"]+year_cols]\n",
    "low_tier_ca = low_tier_ca.melt(\"RegionName\")\n",
    "low_tier_ca[\"value_trun\"] = low_tier_ca[\"value\"]/1000"
   ]
  },
  {
   "cell_type": "code",
   "execution_count": 42,
   "id": "25295130",
   "metadata": {},
   "outputs": [
    {
     "data": {
      "application/vnd.vegalite.v4+json": {
       "$schema": "https://vega.github.io/schema/vega-lite/v4.17.0.json",
       "config": {
        "axis": {
         "domain": false,
         "labelFont": "Georgia",
         "labelFontSize": 15,
         "titleFont": "Georgia",
         "titleFontSize": 15,
         "titleFontWeight": "normal"
        },
        "legend": {
         "labelFont": "Georgia",
         "labelFontSize": 20,
         "labelLimit": 0,
         "orient": "bottom",
         "symbolStrokeWidth": 10,
         "titleFont": "Georgia",
         "titleFontSize": 18,
         "titleLimit": 0
        },
        "view": {
         "continuousHeight": 300,
         "continuousWidth": 400
        }
       },
       "data": {
        "name": "data-3bfe0c36a0ff64c22705955bf78776b9"
       },
       "datasets": {
        "data-3bfe0c36a0ff64c22705955bf78776b9": [
         {
          "RegionName": "Los Angeles",
          "value": 285045,
          "value_trun": 285.045,
          "variable": "2010-01-31"
         },
         {
          "RegionName": "San Francisco",
          "value": 538536,
          "value_trun": 538.536,
          "variable": "2010-01-31"
         },
         {
          "RegionName": "Sacramento",
          "value": 128386,
          "value_trun": 128.386,
          "variable": "2010-01-31"
         },
         {
          "RegionName": "Los Angeles",
          "value": 284308,
          "value_trun": 284.308,
          "variable": "2010-02-28"
         },
         {
          "RegionName": "San Francisco",
          "value": 545971,
          "value_trun": 545.971,
          "variable": "2010-02-28"
         },
         {
          "RegionName": "Sacramento",
          "value": 128201,
          "value_trun": 128.201,
          "variable": "2010-02-28"
         },
         {
          "RegionName": "Los Angeles",
          "value": 284732,
          "value_trun": 284.732,
          "variable": "2010-03-31"
         },
         {
          "RegionName": "San Francisco",
          "value": 545566,
          "value_trun": 545.566,
          "variable": "2010-03-31"
         },
         {
          "RegionName": "Sacramento",
          "value": 128602,
          "value_trun": 128.602,
          "variable": "2010-03-31"
         },
         {
          "RegionName": "Los Angeles",
          "value": 286308,
          "value_trun": 286.308,
          "variable": "2010-04-30"
         },
         {
          "RegionName": "San Francisco",
          "value": 546327,
          "value_trun": 546.327,
          "variable": "2010-04-30"
         },
         {
          "RegionName": "Sacramento",
          "value": 128250,
          "value_trun": 128.25,
          "variable": "2010-04-30"
         },
         {
          "RegionName": "Los Angeles",
          "value": 289399,
          "value_trun": 289.399,
          "variable": "2010-05-31"
         },
         {
          "RegionName": "San Francisco",
          "value": 543021,
          "value_trun": 543.021,
          "variable": "2010-05-31"
         },
         {
          "RegionName": "Sacramento",
          "value": 128247,
          "value_trun": 128.247,
          "variable": "2010-05-31"
         },
         {
          "RegionName": "Los Angeles",
          "value": 288531,
          "value_trun": 288.531,
          "variable": "2010-06-30"
         },
         {
          "RegionName": "San Francisco",
          "value": 541305,
          "value_trun": 541.305,
          "variable": "2010-06-30"
         },
         {
          "RegionName": "Sacramento",
          "value": 128012,
          "value_trun": 128.012,
          "variable": "2010-06-30"
         },
         {
          "RegionName": "Los Angeles",
          "value": 287262,
          "value_trun": 287.262,
          "variable": "2010-07-31"
         },
         {
          "RegionName": "San Francisco",
          "value": 536266,
          "value_trun": 536.266,
          "variable": "2010-07-31"
         },
         {
          "RegionName": "Sacramento",
          "value": 127993,
          "value_trun": 127.993,
          "variable": "2010-07-31"
         },
         {
          "RegionName": "Los Angeles",
          "value": 283957,
          "value_trun": 283.957,
          "variable": "2010-08-31"
         },
         {
          "RegionName": "San Francisco",
          "value": 536922,
          "value_trun": 536.922,
          "variable": "2010-08-31"
         },
         {
          "RegionName": "Sacramento",
          "value": 127239,
          "value_trun": 127.239,
          "variable": "2010-08-31"
         },
         {
          "RegionName": "Los Angeles",
          "value": 281391,
          "value_trun": 281.391,
          "variable": "2010-09-30"
         },
         {
          "RegionName": "San Francisco",
          "value": 536472,
          "value_trun": 536.472,
          "variable": "2010-09-30"
         },
         {
          "RegionName": "Sacramento",
          "value": 125701,
          "value_trun": 125.701,
          "variable": "2010-09-30"
         },
         {
          "RegionName": "Los Angeles",
          "value": 278935,
          "value_trun": 278.935,
          "variable": "2010-10-31"
         },
         {
          "RegionName": "San Francisco",
          "value": 535376,
          "value_trun": 535.376,
          "variable": "2010-10-31"
         },
         {
          "RegionName": "Sacramento",
          "value": 124373,
          "value_trun": 124.373,
          "variable": "2010-10-31"
         },
         {
          "RegionName": "Los Angeles",
          "value": 276750,
          "value_trun": 276.75,
          "variable": "2010-11-30"
         },
         {
          "RegionName": "San Francisco",
          "value": 530314,
          "value_trun": 530.314,
          "variable": "2010-11-30"
         },
         {
          "RegionName": "Sacramento",
          "value": 123797,
          "value_trun": 123.797,
          "variable": "2010-11-30"
         },
         {
          "RegionName": "Los Angeles",
          "value": 276474,
          "value_trun": 276.474,
          "variable": "2010-12-31"
         },
         {
          "RegionName": "San Francisco",
          "value": 523869,
          "value_trun": 523.869,
          "variable": "2010-12-31"
         },
         {
          "RegionName": "Sacramento",
          "value": 124129,
          "value_trun": 124.129,
          "variable": "2010-12-31"
         },
         {
          "RegionName": "Los Angeles",
          "value": 276203,
          "value_trun": 276.203,
          "variable": "2011-01-31"
         },
         {
          "RegionName": "San Francisco",
          "value": 519480,
          "value_trun": 519.48,
          "variable": "2011-01-31"
         },
         {
          "RegionName": "Sacramento",
          "value": 123510,
          "value_trun": 123.51,
          "variable": "2011-01-31"
         },
         {
          "RegionName": "Los Angeles",
          "value": 276945,
          "value_trun": 276.945,
          "variable": "2011-02-28"
         },
         {
          "RegionName": "San Francisco",
          "value": 515118,
          "value_trun": 515.118,
          "variable": "2011-02-28"
         },
         {
          "RegionName": "Sacramento",
          "value": 122210,
          "value_trun": 122.21,
          "variable": "2011-02-28"
         },
         {
          "RegionName": "Los Angeles",
          "value": 275797,
          "value_trun": 275.797,
          "variable": "2011-03-31"
         },
         {
          "RegionName": "San Francisco",
          "value": 513442,
          "value_trun": 513.442,
          "variable": "2011-03-31"
         },
         {
          "RegionName": "Sacramento",
          "value": 120466,
          "value_trun": 120.466,
          "variable": "2011-03-31"
         },
         {
          "RegionName": "Los Angeles",
          "value": 275005,
          "value_trun": 275.005,
          "variable": "2011-04-30"
         },
         {
          "RegionName": "San Francisco",
          "value": 511149,
          "value_trun": 511.149,
          "variable": "2011-04-30"
         },
         {
          "RegionName": "Sacramento",
          "value": 119173,
          "value_trun": 119.173,
          "variable": "2011-04-30"
         },
         {
          "RegionName": "Los Angeles",
          "value": 271730,
          "value_trun": 271.73,
          "variable": "2011-05-31"
         },
         {
          "RegionName": "San Francisco",
          "value": 507025,
          "value_trun": 507.025,
          "variable": "2011-05-31"
         },
         {
          "RegionName": "Sacramento",
          "value": 117482,
          "value_trun": 117.482,
          "variable": "2011-05-31"
         },
         {
          "RegionName": "Los Angeles",
          "value": 271386,
          "value_trun": 271.386,
          "variable": "2011-06-30"
         },
         {
          "RegionName": "San Francisco",
          "value": 500853,
          "value_trun": 500.853,
          "variable": "2011-06-30"
         },
         {
          "RegionName": "Sacramento",
          "value": 115396,
          "value_trun": 115.396,
          "variable": "2011-06-30"
         },
         {
          "RegionName": "Los Angeles",
          "value": 270615,
          "value_trun": 270.615,
          "variable": "2011-07-31"
         },
         {
          "RegionName": "San Francisco",
          "value": 499448,
          "value_trun": 499.448,
          "variable": "2011-07-31"
         },
         {
          "RegionName": "Sacramento",
          "value": 113666,
          "value_trun": 113.666,
          "variable": "2011-07-31"
         },
         {
          "RegionName": "Los Angeles",
          "value": 269456,
          "value_trun": 269.456,
          "variable": "2011-08-31"
         },
         {
          "RegionName": "San Francisco",
          "value": 499391,
          "value_trun": 499.391,
          "variable": "2011-08-31"
         },
         {
          "RegionName": "Sacramento",
          "value": 112820,
          "value_trun": 112.82,
          "variable": "2011-08-31"
         },
         {
          "RegionName": "Los Angeles",
          "value": 266585,
          "value_trun": 266.585,
          "variable": "2011-09-30"
         },
         {
          "RegionName": "San Francisco",
          "value": 499762,
          "value_trun": 499.762,
          "variable": "2011-09-30"
         },
         {
          "RegionName": "Sacramento",
          "value": 112460,
          "value_trun": 112.46,
          "variable": "2011-09-30"
         },
         {
          "RegionName": "Los Angeles",
          "value": 263775,
          "value_trun": 263.775,
          "variable": "2011-10-31"
         },
         {
          "RegionName": "San Francisco",
          "value": 497190,
          "value_trun": 497.19,
          "variable": "2011-10-31"
         },
         {
          "RegionName": "Sacramento",
          "value": 111462,
          "value_trun": 111.462,
          "variable": "2011-10-31"
         },
         {
          "RegionName": "Los Angeles",
          "value": 263504,
          "value_trun": 263.504,
          "variable": "2011-11-30"
         },
         {
          "RegionName": "San Francisco",
          "value": 494841,
          "value_trun": 494.841,
          "variable": "2011-11-30"
         },
         {
          "RegionName": "Sacramento",
          "value": 110258,
          "value_trun": 110.258,
          "variable": "2011-11-30"
         },
         {
          "RegionName": "Los Angeles",
          "value": 263578,
          "value_trun": 263.578,
          "variable": "2011-12-31"
         },
         {
          "RegionName": "San Francisco",
          "value": 494373,
          "value_trun": 494.373,
          "variable": "2011-12-31"
         },
         {
          "RegionName": "Sacramento",
          "value": 109306,
          "value_trun": 109.306,
          "variable": "2011-12-31"
         },
         {
          "RegionName": "Los Angeles",
          "value": 263617,
          "value_trun": 263.617,
          "variable": "2012-01-31"
         },
         {
          "RegionName": "San Francisco",
          "value": 494231,
          "value_trun": 494.231,
          "variable": "2012-01-31"
         },
         {
          "RegionName": "Sacramento",
          "value": 109347,
          "value_trun": 109.347,
          "variable": "2012-01-31"
         },
         {
          "RegionName": "Los Angeles",
          "value": 263622,
          "value_trun": 263.622,
          "variable": "2012-02-29"
         },
         {
          "RegionName": "San Francisco",
          "value": 497951,
          "value_trun": 497.951,
          "variable": "2012-02-29"
         },
         {
          "RegionName": "Sacramento",
          "value": 109647,
          "value_trun": 109.647,
          "variable": "2012-02-29"
         },
         {
          "RegionName": "Los Angeles",
          "value": 263478,
          "value_trun": 263.478,
          "variable": "2012-03-31"
         },
         {
          "RegionName": "San Francisco",
          "value": 502339,
          "value_trun": 502.339,
          "variable": "2012-03-31"
         },
         {
          "RegionName": "Sacramento",
          "value": 110411,
          "value_trun": 110.411,
          "variable": "2012-03-31"
         },
         {
          "RegionName": "Los Angeles",
          "value": 264084,
          "value_trun": 264.084,
          "variable": "2012-04-30"
         },
         {
          "RegionName": "San Francisco",
          "value": 505345,
          "value_trun": 505.345,
          "variable": "2012-04-30"
         },
         {
          "RegionName": "Sacramento",
          "value": 110945,
          "value_trun": 110.945,
          "variable": "2012-04-30"
         },
         {
          "RegionName": "Los Angeles",
          "value": 265005,
          "value_trun": 265.005,
          "variable": "2012-05-31"
         },
         {
          "RegionName": "San Francisco",
          "value": 507780,
          "value_trun": 507.78,
          "variable": "2012-05-31"
         },
         {
          "RegionName": "Sacramento",
          "value": 111457,
          "value_trun": 111.457,
          "variable": "2012-05-31"
         },
         {
          "RegionName": "Los Angeles",
          "value": 266736,
          "value_trun": 266.736,
          "variable": "2012-06-30"
         },
         {
          "RegionName": "San Francisco",
          "value": 512158,
          "value_trun": 512.158,
          "variable": "2012-06-30"
         },
         {
          "RegionName": "Sacramento",
          "value": 111586,
          "value_trun": 111.586,
          "variable": "2012-06-30"
         },
         {
          "RegionName": "Los Angeles",
          "value": 268646,
          "value_trun": 268.646,
          "variable": "2012-07-31"
         },
         {
          "RegionName": "San Francisco",
          "value": 521691,
          "value_trun": 521.691,
          "variable": "2012-07-31"
         },
         {
          "RegionName": "Sacramento",
          "value": 112144,
          "value_trun": 112.144,
          "variable": "2012-07-31"
         },
         {
          "RegionName": "Los Angeles",
          "value": 269988,
          "value_trun": 269.988,
          "variable": "2012-08-31"
         },
         {
          "RegionName": "San Francisco",
          "value": 532117,
          "value_trun": 532.117,
          "variable": "2012-08-31"
         },
         {
          "RegionName": "Sacramento",
          "value": 113597,
          "value_trun": 113.597,
          "variable": "2012-08-31"
         },
         {
          "RegionName": "Los Angeles",
          "value": 271335,
          "value_trun": 271.335,
          "variable": "2012-09-30"
         },
         {
          "RegionName": "San Francisco",
          "value": 542156,
          "value_trun": 542.156,
          "variable": "2012-09-30"
         },
         {
          "RegionName": "Sacramento",
          "value": 115914,
          "value_trun": 115.914,
          "variable": "2012-09-30"
         },
         {
          "RegionName": "Los Angeles",
          "value": 274189,
          "value_trun": 274.189,
          "variable": "2012-10-31"
         },
         {
          "RegionName": "San Francisco",
          "value": 550352,
          "value_trun": 550.352,
          "variable": "2012-10-31"
         },
         {
          "RegionName": "Sacramento",
          "value": 118604,
          "value_trun": 118.604,
          "variable": "2012-10-31"
         },
         {
          "RegionName": "Los Angeles",
          "value": 277415,
          "value_trun": 277.415,
          "variable": "2012-11-30"
         },
         {
          "RegionName": "San Francisco",
          "value": 557569,
          "value_trun": 557.569,
          "variable": "2012-11-30"
         },
         {
          "RegionName": "Sacramento",
          "value": 120719,
          "value_trun": 120.719,
          "variable": "2012-11-30"
         },
         {
          "RegionName": "Los Angeles",
          "value": 282545,
          "value_trun": 282.545,
          "variable": "2012-12-31"
         },
         {
          "RegionName": "San Francisco",
          "value": 565854,
          "value_trun": 565.854,
          "variable": "2012-12-31"
         },
         {
          "RegionName": "Sacramento",
          "value": 122910,
          "value_trun": 122.91,
          "variable": "2012-12-31"
         },
         {
          "RegionName": "Los Angeles",
          "value": 286517,
          "value_trun": 286.517,
          "variable": "2013-01-31"
         },
         {
          "RegionName": "San Francisco",
          "value": 578494,
          "value_trun": 578.494,
          "variable": "2013-01-31"
         },
         {
          "RegionName": "Sacramento",
          "value": 125654,
          "value_trun": 125.654,
          "variable": "2013-01-31"
         },
         {
          "RegionName": "Los Angeles",
          "value": 292932,
          "value_trun": 292.932,
          "variable": "2013-02-28"
         },
         {
          "RegionName": "San Francisco",
          "value": 585347,
          "value_trun": 585.347,
          "variable": "2013-02-28"
         },
         {
          "RegionName": "Sacramento",
          "value": 128911,
          "value_trun": 128.911,
          "variable": "2013-02-28"
         },
         {
          "RegionName": "Los Angeles",
          "value": 299139,
          "value_trun": 299.139,
          "variable": "2013-03-31"
         },
         {
          "RegionName": "San Francisco",
          "value": 593606,
          "value_trun": 593.606,
          "variable": "2013-03-31"
         },
         {
          "RegionName": "Sacramento",
          "value": 132773,
          "value_trun": 132.773,
          "variable": "2013-03-31"
         },
         {
          "RegionName": "Los Angeles",
          "value": 306592,
          "value_trun": 306.592,
          "variable": "2013-04-30"
         },
         {
          "RegionName": "San Francisco",
          "value": 601084,
          "value_trun": 601.084,
          "variable": "2013-04-30"
         },
         {
          "RegionName": "Sacramento",
          "value": 136843,
          "value_trun": 136.843,
          "variable": "2013-04-30"
         },
         {
          "RegionName": "Los Angeles",
          "value": 312539,
          "value_trun": 312.539,
          "variable": "2013-05-31"
         },
         {
          "RegionName": "San Francisco",
          "value": 614955,
          "value_trun": 614.955,
          "variable": "2013-05-31"
         },
         {
          "RegionName": "Sacramento",
          "value": 142164,
          "value_trun": 142.164,
          "variable": "2013-05-31"
         },
         {
          "RegionName": "Los Angeles",
          "value": 318970,
          "value_trun": 318.97,
          "variable": "2013-06-30"
         },
         {
          "RegionName": "San Francisco",
          "value": 630023,
          "value_trun": 630.023,
          "variable": "2013-06-30"
         },
         {
          "RegionName": "Sacramento",
          "value": 147387,
          "value_trun": 147.387,
          "variable": "2013-06-30"
         },
         {
          "RegionName": "Los Angeles",
          "value": 325206,
          "value_trun": 325.206,
          "variable": "2013-07-31"
         },
         {
          "RegionName": "San Francisco",
          "value": 642309,
          "value_trun": 642.309,
          "variable": "2013-07-31"
         },
         {
          "RegionName": "Sacramento",
          "value": 152574,
          "value_trun": 152.574,
          "variable": "2013-07-31"
         },
         {
          "RegionName": "Los Angeles",
          "value": 332252,
          "value_trun": 332.252,
          "variable": "2013-08-31"
         },
         {
          "RegionName": "San Francisco",
          "value": 652213,
          "value_trun": 652.213,
          "variable": "2013-08-31"
         },
         {
          "RegionName": "Sacramento",
          "value": 156316,
          "value_trun": 156.316,
          "variable": "2013-08-31"
         },
         {
          "RegionName": "Los Angeles",
          "value": 337761,
          "value_trun": 337.761,
          "variable": "2013-09-30"
         },
         {
          "RegionName": "San Francisco",
          "value": 657091,
          "value_trun": 657.091,
          "variable": "2013-09-30"
         },
         {
          "RegionName": "Sacramento",
          "value": 160097,
          "value_trun": 160.097,
          "variable": "2013-09-30"
         },
         {
          "RegionName": "Los Angeles",
          "value": 341943,
          "value_trun": 341.943,
          "variable": "2013-10-31"
         },
         {
          "RegionName": "San Francisco",
          "value": 659536,
          "value_trun": 659.536,
          "variable": "2013-10-31"
         },
         {
          "RegionName": "Sacramento",
          "value": 163419,
          "value_trun": 163.419,
          "variable": "2013-10-31"
         },
         {
          "RegionName": "Los Angeles",
          "value": 345935,
          "value_trun": 345.935,
          "variable": "2013-11-30"
         },
         {
          "RegionName": "San Francisco",
          "value": 663930,
          "value_trun": 663.93,
          "variable": "2013-11-30"
         },
         {
          "RegionName": "Sacramento",
          "value": 166983,
          "value_trun": 166.983,
          "variable": "2013-11-30"
         },
         {
          "RegionName": "Los Angeles",
          "value": 349222,
          "value_trun": 349.222,
          "variable": "2013-12-31"
         },
         {
          "RegionName": "San Francisco",
          "value": 672980,
          "value_trun": 672.98,
          "variable": "2013-12-31"
         },
         {
          "RegionName": "Sacramento",
          "value": 170036,
          "value_trun": 170.036,
          "variable": "2013-12-31"
         },
         {
          "RegionName": "Los Angeles",
          "value": 353529,
          "value_trun": 353.529,
          "variable": "2014-01-31"
         },
         {
          "RegionName": "San Francisco",
          "value": 681400,
          "value_trun": 681.4,
          "variable": "2014-01-31"
         },
         {
          "RegionName": "Sacramento",
          "value": 172112,
          "value_trun": 172.112,
          "variable": "2014-01-31"
         },
         {
          "RegionName": "Los Angeles",
          "value": 355311,
          "value_trun": 355.311,
          "variable": "2014-02-28"
         },
         {
          "RegionName": "San Francisco",
          "value": 698338,
          "value_trun": 698.338,
          "variable": "2014-02-28"
         },
         {
          "RegionName": "Sacramento",
          "value": 173499,
          "value_trun": 173.499,
          "variable": "2014-02-28"
         },
         {
          "RegionName": "Los Angeles",
          "value": 357199,
          "value_trun": 357.199,
          "variable": "2014-03-31"
         },
         {
          "RegionName": "San Francisco",
          "value": 710175,
          "value_trun": 710.175,
          "variable": "2014-03-31"
         },
         {
          "RegionName": "Sacramento",
          "value": 174205,
          "value_trun": 174.205,
          "variable": "2014-03-31"
         },
         {
          "RegionName": "Los Angeles",
          "value": 357210,
          "value_trun": 357.21,
          "variable": "2014-04-30"
         },
         {
          "RegionName": "San Francisco",
          "value": 722423,
          "value_trun": 722.423,
          "variable": "2014-04-30"
         },
         {
          "RegionName": "Sacramento",
          "value": 174321,
          "value_trun": 174.321,
          "variable": "2014-04-30"
         },
         {
          "RegionName": "Los Angeles",
          "value": 358562,
          "value_trun": 358.562,
          "variable": "2014-05-31"
         },
         {
          "RegionName": "San Francisco",
          "value": 725393,
          "value_trun": 725.393,
          "variable": "2014-05-31"
         },
         {
          "RegionName": "Sacramento",
          "value": 173850,
          "value_trun": 173.85,
          "variable": "2014-05-31"
         },
         {
          "RegionName": "Los Angeles",
          "value": 359413,
          "value_trun": 359.413,
          "variable": "2014-06-30"
         },
         {
          "RegionName": "San Francisco",
          "value": 725442,
          "value_trun": 725.442,
          "variable": "2014-06-30"
         },
         {
          "RegionName": "Sacramento",
          "value": 173777,
          "value_trun": 173.777,
          "variable": "2014-06-30"
         },
         {
          "RegionName": "Los Angeles",
          "value": 360740,
          "value_trun": 360.74,
          "variable": "2014-07-31"
         },
         {
          "RegionName": "San Francisco",
          "value": 726529,
          "value_trun": 726.529,
          "variable": "2014-07-31"
         },
         {
          "RegionName": "Sacramento",
          "value": 171855,
          "value_trun": 171.855,
          "variable": "2014-07-31"
         },
         {
          "RegionName": "Los Angeles",
          "value": 360355,
          "value_trun": 360.355,
          "variable": "2014-08-31"
         },
         {
          "RegionName": "San Francisco",
          "value": 720739,
          "value_trun": 720.739,
          "variable": "2014-08-31"
         },
         {
          "RegionName": "Sacramento",
          "value": 171869,
          "value_trun": 171.869,
          "variable": "2014-08-31"
         },
         {
          "RegionName": "Los Angeles",
          "value": 360389,
          "value_trun": 360.389,
          "variable": "2014-09-30"
         },
         {
          "RegionName": "San Francisco",
          "value": 720694,
          "value_trun": 720.694,
          "variable": "2014-09-30"
         },
         {
          "RegionName": "Sacramento",
          "value": 171959,
          "value_trun": 171.959,
          "variable": "2014-09-30"
         },
         {
          "RegionName": "Los Angeles",
          "value": 361525,
          "value_trun": 361.525,
          "variable": "2014-10-31"
         },
         {
          "RegionName": "San Francisco",
          "value": 723104,
          "value_trun": 723.104,
          "variable": "2014-10-31"
         },
         {
          "RegionName": "Sacramento",
          "value": 174269,
          "value_trun": 174.269,
          "variable": "2014-10-31"
         },
         {
          "RegionName": "Los Angeles",
          "value": 364120,
          "value_trun": 364.12,
          "variable": "2014-11-30"
         },
         {
          "RegionName": "San Francisco",
          "value": 737586,
          "value_trun": 737.586,
          "variable": "2014-11-30"
         },
         {
          "RegionName": "Sacramento",
          "value": 175590,
          "value_trun": 175.59,
          "variable": "2014-11-30"
         },
         {
          "RegionName": "Los Angeles",
          "value": 367033,
          "value_trun": 367.033,
          "variable": "2014-12-31"
         },
         {
          "RegionName": "San Francisco",
          "value": 746431,
          "value_trun": 746.431,
          "variable": "2014-12-31"
         },
         {
          "RegionName": "Sacramento",
          "value": 174976,
          "value_trun": 174.976,
          "variable": "2014-12-31"
         },
         {
          "RegionName": "Los Angeles",
          "value": 370801,
          "value_trun": 370.801,
          "variable": "2015-01-31"
         },
         {
          "RegionName": "San Francisco",
          "value": 752393,
          "value_trun": 752.393,
          "variable": "2015-01-31"
         },
         {
          "RegionName": "Sacramento",
          "value": 176189,
          "value_trun": 176.189,
          "variable": "2015-01-31"
         },
         {
          "RegionName": "Los Angeles",
          "value": 374667,
          "value_trun": 374.667,
          "variable": "2015-02-28"
         },
         {
          "RegionName": "San Francisco",
          "value": 761275,
          "value_trun": 761.275,
          "variable": "2015-02-28"
         },
         {
          "RegionName": "Sacramento",
          "value": 177592,
          "value_trun": 177.592,
          "variable": "2015-02-28"
         },
         {
          "RegionName": "Los Angeles",
          "value": 378061,
          "value_trun": 378.061,
          "variable": "2015-03-31"
         },
         {
          "RegionName": "San Francisco",
          "value": 771308,
          "value_trun": 771.308,
          "variable": "2015-03-31"
         },
         {
          "RegionName": "Sacramento",
          "value": 180390,
          "value_trun": 180.39,
          "variable": "2015-03-31"
         },
         {
          "RegionName": "Los Angeles",
          "value": 378877,
          "value_trun": 378.877,
          "variable": "2015-04-30"
         },
         {
          "RegionName": "San Francisco",
          "value": 783149,
          "value_trun": 783.149,
          "variable": "2015-04-30"
         },
         {
          "RegionName": "Sacramento",
          "value": 182025,
          "value_trun": 182.025,
          "variable": "2015-04-30"
         },
         {
          "RegionName": "Los Angeles",
          "value": 381059,
          "value_trun": 381.059,
          "variable": "2015-05-31"
         },
         {
          "RegionName": "San Francisco",
          "value": 786791,
          "value_trun": 786.791,
          "variable": "2015-05-31"
         },
         {
          "RegionName": "Sacramento",
          "value": 183383,
          "value_trun": 183.383,
          "variable": "2015-05-31"
         },
         {
          "RegionName": "Los Angeles",
          "value": 383113,
          "value_trun": 383.113,
          "variable": "2015-06-30"
         },
         {
          "RegionName": "San Francisco",
          "value": 796368,
          "value_trun": 796.368,
          "variable": "2015-06-30"
         },
         {
          "RegionName": "Sacramento",
          "value": 184413,
          "value_trun": 184.413,
          "variable": "2015-06-30"
         },
         {
          "RegionName": "Los Angeles",
          "value": 383790,
          "value_trun": 383.79,
          "variable": "2015-07-31"
         },
         {
          "RegionName": "San Francisco",
          "value": 806970,
          "value_trun": 806.97,
          "variable": "2015-07-31"
         },
         {
          "RegionName": "Sacramento",
          "value": 184828,
          "value_trun": 184.828,
          "variable": "2015-07-31"
         },
         {
          "RegionName": "Los Angeles",
          "value": 384480,
          "value_trun": 384.48,
          "variable": "2015-08-31"
         },
         {
          "RegionName": "San Francisco",
          "value": 818462,
          "value_trun": 818.462,
          "variable": "2015-08-31"
         },
         {
          "RegionName": "Sacramento",
          "value": 185332,
          "value_trun": 185.332,
          "variable": "2015-08-31"
         },
         {
          "RegionName": "Los Angeles",
          "value": 385752,
          "value_trun": 385.752,
          "variable": "2015-09-30"
         },
         {
          "RegionName": "San Francisco",
          "value": 831872,
          "value_trun": 831.872,
          "variable": "2015-09-30"
         },
         {
          "RegionName": "Sacramento",
          "value": 186511,
          "value_trun": 186.511,
          "variable": "2015-09-30"
         },
         {
          "RegionName": "Los Angeles",
          "value": 389776,
          "value_trun": 389.776,
          "variable": "2015-10-31"
         },
         {
          "RegionName": "San Francisco",
          "value": 844143,
          "value_trun": 844.143,
          "variable": "2015-10-31"
         },
         {
          "RegionName": "Sacramento",
          "value": 189061,
          "value_trun": 189.061,
          "variable": "2015-10-31"
         },
         {
          "RegionName": "Los Angeles",
          "value": 393177,
          "value_trun": 393.177,
          "variable": "2015-11-30"
         },
         {
          "RegionName": "San Francisco",
          "value": 852181,
          "value_trun": 852.181,
          "variable": "2015-11-30"
         },
         {
          "RegionName": "Sacramento",
          "value": 191563,
          "value_trun": 191.563,
          "variable": "2015-11-30"
         },
         {
          "RegionName": "Los Angeles",
          "value": 397748,
          "value_trun": 397.748,
          "variable": "2015-12-31"
         },
         {
          "RegionName": "San Francisco",
          "value": 861408,
          "value_trun": 861.408,
          "variable": "2015-12-31"
         },
         {
          "RegionName": "Sacramento",
          "value": 194660,
          "value_trun": 194.66,
          "variable": "2015-12-31"
         },
         {
          "RegionName": "Los Angeles",
          "value": 400820,
          "value_trun": 400.82,
          "variable": "2016-01-31"
         },
         {
          "RegionName": "San Francisco",
          "value": 873838,
          "value_trun": 873.838,
          "variable": "2016-01-31"
         },
         {
          "RegionName": "Sacramento",
          "value": 197346,
          "value_trun": 197.346,
          "variable": "2016-01-31"
         },
         {
          "RegionName": "Los Angeles",
          "value": 404154,
          "value_trun": 404.154,
          "variable": "2016-02-29"
         },
         {
          "RegionName": "San Francisco",
          "value": 878996,
          "value_trun": 878.996,
          "variable": "2016-02-29"
         },
         {
          "RegionName": "Sacramento",
          "value": 199260,
          "value_trun": 199.26,
          "variable": "2016-02-29"
         },
         {
          "RegionName": "Los Angeles",
          "value": 405939,
          "value_trun": 405.939,
          "variable": "2016-03-31"
         },
         {
          "RegionName": "San Francisco",
          "value": 875587,
          "value_trun": 875.587,
          "variable": "2016-03-31"
         },
         {
          "RegionName": "Sacramento",
          "value": 201104,
          "value_trun": 201.104,
          "variable": "2016-03-31"
         },
         {
          "RegionName": "Los Angeles",
          "value": 409795,
          "value_trun": 409.795,
          "variable": "2016-04-30"
         },
         {
          "RegionName": "San Francisco",
          "value": 866099,
          "value_trun": 866.099,
          "variable": "2016-04-30"
         },
         {
          "RegionName": "Sacramento",
          "value": 203051,
          "value_trun": 203.051,
          "variable": "2016-04-30"
         },
         {
          "RegionName": "Los Angeles",
          "value": 412662,
          "value_trun": 412.662,
          "variable": "2016-05-31"
         },
         {
          "RegionName": "San Francisco",
          "value": 865680,
          "value_trun": 865.68,
          "variable": "2016-05-31"
         },
         {
          "RegionName": "Sacramento",
          "value": 205746,
          "value_trun": 205.746,
          "variable": "2016-05-31"
         },
         {
          "RegionName": "Los Angeles",
          "value": 416138,
          "value_trun": 416.138,
          "variable": "2016-06-30"
         },
         {
          "RegionName": "San Francisco",
          "value": 862506,
          "value_trun": 862.506,
          "variable": "2016-06-30"
         },
         {
          "RegionName": "Sacramento",
          "value": 207824,
          "value_trun": 207.824,
          "variable": "2016-06-30"
         },
         {
          "RegionName": "Los Angeles",
          "value": 416187,
          "value_trun": 416.187,
          "variable": "2016-07-31"
         },
         {
          "RegionName": "San Francisco",
          "value": 852441,
          "value_trun": 852.441,
          "variable": "2016-07-31"
         },
         {
          "RegionName": "Sacramento",
          "value": 209836,
          "value_trun": 209.836,
          "variable": "2016-07-31"
         },
         {
          "RegionName": "Los Angeles",
          "value": 417632,
          "value_trun": 417.632,
          "variable": "2016-08-31"
         },
         {
          "RegionName": "San Francisco",
          "value": 841678,
          "value_trun": 841.678,
          "variable": "2016-08-31"
         },
         {
          "RegionName": "Sacramento",
          "value": 212155,
          "value_trun": 212.155,
          "variable": "2016-08-31"
         },
         {
          "RegionName": "Los Angeles",
          "value": 420017,
          "value_trun": 420.017,
          "variable": "2016-09-30"
         },
         {
          "RegionName": "San Francisco",
          "value": 840460,
          "value_trun": 840.46,
          "variable": "2016-09-30"
         },
         {
          "RegionName": "Sacramento",
          "value": 214670,
          "value_trun": 214.67,
          "variable": "2016-09-30"
         },
         {
          "RegionName": "Los Angeles",
          "value": 424981,
          "value_trun": 424.981,
          "variable": "2016-10-31"
         },
         {
          "RegionName": "San Francisco",
          "value": 847201,
          "value_trun": 847.201,
          "variable": "2016-10-31"
         },
         {
          "RegionName": "Sacramento",
          "value": 216808,
          "value_trun": 216.808,
          "variable": "2016-10-31"
         },
         {
          "RegionName": "Los Angeles",
          "value": 428125,
          "value_trun": 428.125,
          "variable": "2016-11-30"
         },
         {
          "RegionName": "San Francisco",
          "value": 858939,
          "value_trun": 858.939,
          "variable": "2016-11-30"
         },
         {
          "RegionName": "Sacramento",
          "value": 219012,
          "value_trun": 219.012,
          "variable": "2016-11-30"
         },
         {
          "RegionName": "Los Angeles",
          "value": 430393,
          "value_trun": 430.393,
          "variable": "2016-12-31"
         },
         {
          "RegionName": "San Francisco",
          "value": 862075,
          "value_trun": 862.075,
          "variable": "2016-12-31"
         },
         {
          "RegionName": "Sacramento",
          "value": 220257,
          "value_trun": 220.257,
          "variable": "2016-12-31"
         },
         {
          "RegionName": "Los Angeles",
          "value": 433650,
          "value_trun": 433.65,
          "variable": "2017-01-31"
         },
         {
          "RegionName": "San Francisco",
          "value": 862420,
          "value_trun": 862.42,
          "variable": "2017-01-31"
         },
         {
          "RegionName": "Sacramento",
          "value": 222544,
          "value_trun": 222.544,
          "variable": "2017-01-31"
         },
         {
          "RegionName": "Los Angeles",
          "value": 436481,
          "value_trun": 436.481,
          "variable": "2017-02-28"
         },
         {
          "RegionName": "San Francisco",
          "value": 857682,
          "value_trun": 857.682,
          "variable": "2017-02-28"
         },
         {
          "RegionName": "Sacramento",
          "value": 225110,
          "value_trun": 225.11,
          "variable": "2017-02-28"
         },
         {
          "RegionName": "Los Angeles",
          "value": 439021,
          "value_trun": 439.021,
          "variable": "2017-03-31"
         },
         {
          "RegionName": "San Francisco",
          "value": 856086,
          "value_trun": 856.086,
          "variable": "2017-03-31"
         },
         {
          "RegionName": "Sacramento",
          "value": 227898,
          "value_trun": 227.898,
          "variable": "2017-03-31"
         },
         {
          "RegionName": "Los Angeles",
          "value": 440401,
          "value_trun": 440.401,
          "variable": "2017-04-30"
         },
         {
          "RegionName": "San Francisco",
          "value": 862320,
          "value_trun": 862.32,
          "variable": "2017-04-30"
         },
         {
          "RegionName": "Sacramento",
          "value": 229443,
          "value_trun": 229.443,
          "variable": "2017-04-30"
         },
         {
          "RegionName": "Los Angeles",
          "value": 443282,
          "value_trun": 443.282,
          "variable": "2017-05-31"
         },
         {
          "RegionName": "San Francisco",
          "value": 872861,
          "value_trun": 872.861,
          "variable": "2017-05-31"
         },
         {
          "RegionName": "Sacramento",
          "value": 230912,
          "value_trun": 230.912,
          "variable": "2017-05-31"
         },
         {
          "RegionName": "Los Angeles",
          "value": 446444,
          "value_trun": 446.444,
          "variable": "2017-06-30"
         },
         {
          "RegionName": "San Francisco",
          "value": 885291,
          "value_trun": 885.291,
          "variable": "2017-06-30"
         },
         {
          "RegionName": "Sacramento",
          "value": 233745,
          "value_trun": 233.745,
          "variable": "2017-06-30"
         },
         {
          "RegionName": "Los Angeles",
          "value": 448348,
          "value_trun": 448.348,
          "variable": "2017-07-31"
         },
         {
          "RegionName": "San Francisco",
          "value": 892792,
          "value_trun": 892.792,
          "variable": "2017-07-31"
         },
         {
          "RegionName": "Sacramento",
          "value": 236587,
          "value_trun": 236.587,
          "variable": "2017-07-31"
         },
         {
          "RegionName": "Los Angeles",
          "value": 450574,
          "value_trun": 450.574,
          "variable": "2017-08-31"
         },
         {
          "RegionName": "San Francisco",
          "value": 901789,
          "value_trun": 901.789,
          "variable": "2017-08-31"
         },
         {
          "RegionName": "Sacramento",
          "value": 238303,
          "value_trun": 238.303,
          "variable": "2017-08-31"
         },
         {
          "RegionName": "Los Angeles",
          "value": 453119,
          "value_trun": 453.119,
          "variable": "2017-09-30"
         },
         {
          "RegionName": "San Francisco",
          "value": 909686,
          "value_trun": 909.686,
          "variable": "2017-09-30"
         },
         {
          "RegionName": "Sacramento",
          "value": 239390,
          "value_trun": 239.39,
          "variable": "2017-09-30"
         },
         {
          "RegionName": "Los Angeles",
          "value": 457335,
          "value_trun": 457.335,
          "variable": "2017-10-31"
         },
         {
          "RegionName": "San Francisco",
          "value": 917175,
          "value_trun": 917.175,
          "variable": "2017-10-31"
         },
         {
          "RegionName": "Sacramento",
          "value": 240966,
          "value_trun": 240.966,
          "variable": "2017-10-31"
         },
         {
          "RegionName": "Los Angeles",
          "value": 462735,
          "value_trun": 462.735,
          "variable": "2017-11-30"
         },
         {
          "RegionName": "San Francisco",
          "value": 924472,
          "value_trun": 924.472,
          "variable": "2017-11-30"
         },
         {
          "RegionName": "Sacramento",
          "value": 242877,
          "value_trun": 242.877,
          "variable": "2017-11-30"
         },
         {
          "RegionName": "Los Angeles",
          "value": 467252,
          "value_trun": 467.252,
          "variable": "2017-12-31"
         },
         {
          "RegionName": "San Francisco",
          "value": 929288,
          "value_trun": 929.288,
          "variable": "2017-12-31"
         },
         {
          "RegionName": "Sacramento",
          "value": 245585,
          "value_trun": 245.585,
          "variable": "2017-12-31"
         },
         {
          "RegionName": "Los Angeles",
          "value": 472021,
          "value_trun": 472.021,
          "variable": "2018-01-31"
         },
         {
          "RegionName": "San Francisco",
          "value": 935156,
          "value_trun": 935.156,
          "variable": "2018-01-31"
         },
         {
          "RegionName": "Sacramento",
          "value": 248046,
          "value_trun": 248.046,
          "variable": "2018-01-31"
         },
         {
          "RegionName": "Los Angeles",
          "value": 477161,
          "value_trun": 477.161,
          "variable": "2018-02-28"
         },
         {
          "RegionName": "San Francisco",
          "value": 941661,
          "value_trun": 941.661,
          "variable": "2018-02-28"
         },
         {
          "RegionName": "Sacramento",
          "value": 250934,
          "value_trun": 250.934,
          "variable": "2018-02-28"
         },
         {
          "RegionName": "Los Angeles",
          "value": 482437,
          "value_trun": 482.437,
          "variable": "2018-03-31"
         },
         {
          "RegionName": "San Francisco",
          "value": 956868,
          "value_trun": 956.868,
          "variable": "2018-03-31"
         },
         {
          "RegionName": "Sacramento",
          "value": 252713,
          "value_trun": 252.713,
          "variable": "2018-03-31"
         },
         {
          "RegionName": "Los Angeles",
          "value": 486850,
          "value_trun": 486.85,
          "variable": "2018-04-30"
         },
         {
          "RegionName": "San Francisco",
          "value": 972483,
          "value_trun": 972.483,
          "variable": "2018-04-30"
         },
         {
          "RegionName": "Sacramento",
          "value": 254205,
          "value_trun": 254.205,
          "variable": "2018-04-30"
         },
         {
          "RegionName": "Los Angeles",
          "value": 489265,
          "value_trun": 489.265,
          "variable": "2018-05-31"
         },
         {
          "RegionName": "San Francisco",
          "value": 982415,
          "value_trun": 982.415,
          "variable": "2018-05-31"
         },
         {
          "RegionName": "Sacramento",
          "value": 255954,
          "value_trun": 255.954,
          "variable": "2018-05-31"
         },
         {
          "RegionName": "Los Angeles",
          "value": 491958,
          "value_trun": 491.958,
          "variable": "2018-06-30"
         },
         {
          "RegionName": "San Francisco",
          "value": 995418,
          "value_trun": 995.418,
          "variable": "2018-06-30"
         },
         {
          "RegionName": "Sacramento",
          "value": 257890,
          "value_trun": 257.89,
          "variable": "2018-06-30"
         },
         {
          "RegionName": "Los Angeles",
          "value": 493152,
          "value_trun": 493.152,
          "variable": "2018-07-31"
         },
         {
          "RegionName": "San Francisco",
          "value": 999555,
          "value_trun": 999.555,
          "variable": "2018-07-31"
         },
         {
          "RegionName": "Sacramento",
          "value": 259635,
          "value_trun": 259.635,
          "variable": "2018-07-31"
         },
         {
          "RegionName": "Los Angeles",
          "value": 494813,
          "value_trun": 494.813,
          "variable": "2018-08-31"
         },
         {
          "RegionName": "San Francisco",
          "value": 1005686,
          "value_trun": 1005.686,
          "variable": "2018-08-31"
         },
         {
          "RegionName": "Sacramento",
          "value": 260321,
          "value_trun": 260.321,
          "variable": "2018-08-31"
         },
         {
          "RegionName": "Los Angeles",
          "value": 496609,
          "value_trun": 496.609,
          "variable": "2018-09-30"
         },
         {
          "RegionName": "San Francisco",
          "value": 1002894,
          "value_trun": 1002.894,
          "variable": "2018-09-30"
         },
         {
          "RegionName": "Sacramento",
          "value": 260224,
          "value_trun": 260.224,
          "variable": "2018-09-30"
         },
         {
          "RegionName": "Los Angeles",
          "value": 499969,
          "value_trun": 499.969,
          "variable": "2018-10-31"
         },
         {
          "RegionName": "San Francisco",
          "value": 1006910,
          "value_trun": 1006.91,
          "variable": "2018-10-31"
         },
         {
          "RegionName": "Sacramento",
          "value": 260142,
          "value_trun": 260.142,
          "variable": "2018-10-31"
         },
         {
          "RegionName": "Los Angeles",
          "value": 502327,
          "value_trun": 502.327,
          "variable": "2018-11-30"
         },
         {
          "RegionName": "San Francisco",
          "value": 1005442,
          "value_trun": 1005.442,
          "variable": "2018-11-30"
         },
         {
          "RegionName": "Sacramento",
          "value": 260517,
          "value_trun": 260.517,
          "variable": "2018-11-30"
         },
         {
          "RegionName": "Los Angeles",
          "value": 502526,
          "value_trun": 502.526,
          "variable": "2018-12-31"
         },
         {
          "RegionName": "San Francisco",
          "value": 1003186,
          "value_trun": 1003.186,
          "variable": "2018-12-31"
         },
         {
          "RegionName": "Sacramento",
          "value": 261666,
          "value_trun": 261.666,
          "variable": "2018-12-31"
         },
         {
          "RegionName": "Los Angeles",
          "value": 502423,
          "value_trun": 502.423,
          "variable": "2019-01-31"
         },
         {
          "RegionName": "San Francisco",
          "value": 1005907,
          "value_trun": 1005.907,
          "variable": "2019-01-31"
         },
         {
          "RegionName": "Sacramento",
          "value": 262222,
          "value_trun": 262.222,
          "variable": "2019-01-31"
         },
         {
          "RegionName": "Los Angeles",
          "value": 501017,
          "value_trun": 501.017,
          "variable": "2019-02-28"
         },
         {
          "RegionName": "San Francisco",
          "value": 1009771,
          "value_trun": 1009.771,
          "variable": "2019-02-28"
         },
         {
          "RegionName": "Sacramento",
          "value": 262507,
          "value_trun": 262.507,
          "variable": "2019-02-28"
         },
         {
          "RegionName": "Los Angeles",
          "value": 499993,
          "value_trun": 499.993,
          "variable": "2019-03-31"
         },
         {
          "RegionName": "San Francisco",
          "value": 1010178,
          "value_trun": 1010.178,
          "variable": "2019-03-31"
         },
         {
          "RegionName": "Sacramento",
          "value": 262693,
          "value_trun": 262.693,
          "variable": "2019-03-31"
         },
         {
          "RegionName": "Los Angeles",
          "value": 500165,
          "value_trun": 500.165,
          "variable": "2019-04-30"
         },
         {
          "RegionName": "San Francisco",
          "value": 1008793,
          "value_trun": 1008.793,
          "variable": "2019-04-30"
         },
         {
          "RegionName": "Sacramento",
          "value": 264349,
          "value_trun": 264.349,
          "variable": "2019-04-30"
         },
         {
          "RegionName": "Los Angeles",
          "value": 501484,
          "value_trun": 501.484,
          "variable": "2019-05-31"
         },
         {
          "RegionName": "San Francisco",
          "value": 1011497,
          "value_trun": 1011.497,
          "variable": "2019-05-31"
         },
         {
          "RegionName": "Sacramento",
          "value": 266339,
          "value_trun": 266.339,
          "variable": "2019-05-31"
         },
         {
          "RegionName": "Los Angeles",
          "value": 503393,
          "value_trun": 503.393,
          "variable": "2019-06-30"
         },
         {
          "RegionName": "San Francisco",
          "value": 1014398,
          "value_trun": 1014.398,
          "variable": "2019-06-30"
         },
         {
          "RegionName": "Sacramento",
          "value": 268110,
          "value_trun": 268.11,
          "variable": "2019-06-30"
         },
         {
          "RegionName": "Los Angeles",
          "value": 502236,
          "value_trun": 502.236,
          "variable": "2019-07-31"
         },
         {
          "RegionName": "San Francisco",
          "value": 1011175,
          "value_trun": 1011.175,
          "variable": "2019-07-31"
         },
         {
          "RegionName": "Sacramento",
          "value": 268978,
          "value_trun": 268.978,
          "variable": "2019-07-31"
         },
         {
          "RegionName": "Los Angeles",
          "value": 502576,
          "value_trun": 502.576,
          "variable": "2019-08-31"
         },
         {
          "RegionName": "San Francisco",
          "value": 1007239,
          "value_trun": 1007.239,
          "variable": "2019-08-31"
         },
         {
          "RegionName": "Sacramento",
          "value": 269241,
          "value_trun": 269.241,
          "variable": "2019-08-31"
         },
         {
          "RegionName": "Los Angeles",
          "value": 503884,
          "value_trun": 503.884,
          "variable": "2019-09-30"
         },
         {
          "RegionName": "San Francisco",
          "value": 1004431,
          "value_trun": 1004.431,
          "variable": "2019-09-30"
         },
         {
          "RegionName": "Sacramento",
          "value": 270199,
          "value_trun": 270.199,
          "variable": "2019-09-30"
         },
         {
          "RegionName": "Los Angeles",
          "value": 508015,
          "value_trun": 508.015,
          "variable": "2019-10-31"
         },
         {
          "RegionName": "San Francisco",
          "value": 1012098,
          "value_trun": 1012.098,
          "variable": "2019-10-31"
         },
         {
          "RegionName": "Sacramento",
          "value": 271434,
          "value_trun": 271.434,
          "variable": "2019-10-31"
         },
         {
          "RegionName": "Los Angeles",
          "value": 510789,
          "value_trun": 510.789,
          "variable": "2019-11-30"
         },
         {
          "RegionName": "San Francisco",
          "value": 1017651,
          "value_trun": 1017.651,
          "variable": "2019-11-30"
         },
         {
          "RegionName": "Sacramento",
          "value": 274286,
          "value_trun": 274.286,
          "variable": "2019-11-30"
         },
         {
          "RegionName": "Los Angeles",
          "value": 514170,
          "value_trun": 514.17,
          "variable": "2019-12-31"
         },
         {
          "RegionName": "San Francisco",
          "value": 1029187,
          "value_trun": 1029.187,
          "variable": "2019-12-31"
         },
         {
          "RegionName": "Sacramento",
          "value": 277114,
          "value_trun": 277.114,
          "variable": "2019-12-31"
         },
         {
          "RegionName": "Los Angeles",
          "value": 517690,
          "value_trun": 517.69,
          "variable": "2020-01-31"
         },
         {
          "RegionName": "San Francisco",
          "value": 1033827,
          "value_trun": 1033.827,
          "variable": "2020-01-31"
         },
         {
          "RegionName": "Sacramento",
          "value": 279761,
          "value_trun": 279.761,
          "variable": "2020-01-31"
         },
         {
          "RegionName": "Los Angeles",
          "value": 523871,
          "value_trun": 523.871,
          "variable": "2020-02-29"
         },
         {
          "RegionName": "San Francisco",
          "value": 1042903,
          "value_trun": 1042.903,
          "variable": "2020-02-29"
         },
         {
          "RegionName": "Sacramento",
          "value": 282035,
          "value_trun": 282.035,
          "variable": "2020-02-29"
         },
         {
          "RegionName": "Los Angeles",
          "value": 530146,
          "value_trun": 530.146,
          "variable": "2020-03-31"
         },
         {
          "RegionName": "San Francisco",
          "value": 1046326,
          "value_trun": 1046.326,
          "variable": "2020-03-31"
         },
         {
          "RegionName": "Sacramento",
          "value": 284866,
          "value_trun": 284.866,
          "variable": "2020-03-31"
         },
         {
          "RegionName": "Los Angeles",
          "value": 535136,
          "value_trun": 535.136,
          "variable": "2020-04-30"
         },
         {
          "RegionName": "San Francisco",
          "value": 1054439,
          "value_trun": 1054.439,
          "variable": "2020-04-30"
         },
         {
          "RegionName": "Sacramento",
          "value": 287274,
          "value_trun": 287.274,
          "variable": "2020-04-30"
         },
         {
          "RegionName": "Los Angeles",
          "value": 533852,
          "value_trun": 533.852,
          "variable": "2020-05-31"
         },
         {
          "RegionName": "San Francisco",
          "value": 1048456,
          "value_trun": 1048.456,
          "variable": "2020-05-31"
         },
         {
          "RegionName": "Sacramento",
          "value": 287815,
          "value_trun": 287.815,
          "variable": "2020-05-31"
         },
         {
          "RegionName": "Los Angeles",
          "value": 531939,
          "value_trun": 531.939,
          "variable": "2020-06-30"
         },
         {
          "RegionName": "San Francisco",
          "value": 1041950,
          "value_trun": 1041.95,
          "variable": "2020-06-30"
         },
         {
          "RegionName": "Sacramento",
          "value": 287071,
          "value_trun": 287.071,
          "variable": "2020-06-30"
         },
         {
          "RegionName": "Los Angeles",
          "value": 534097,
          "value_trun": 534.097,
          "variable": "2020-07-31"
         },
         {
          "RegionName": "San Francisco",
          "value": 1029282,
          "value_trun": 1029.282,
          "variable": "2020-07-31"
         },
         {
          "RegionName": "Sacramento",
          "value": 288674,
          "value_trun": 288.674,
          "variable": "2020-07-31"
         },
         {
          "RegionName": "Los Angeles",
          "value": 541512,
          "value_trun": 541.512,
          "variable": "2020-08-31"
         },
         {
          "RegionName": "San Francisco",
          "value": 1031563,
          "value_trun": 1031.563,
          "variable": "2020-08-31"
         },
         {
          "RegionName": "Sacramento",
          "value": 292191,
          "value_trun": 292.191,
          "variable": "2020-08-31"
         },
         {
          "RegionName": "Los Angeles",
          "value": 550886,
          "value_trun": 550.886,
          "variable": "2020-09-30"
         },
         {
          "RegionName": "San Francisco",
          "value": 1031334,
          "value_trun": 1031.334,
          "variable": "2020-09-30"
         },
         {
          "RegionName": "Sacramento",
          "value": 297503,
          "value_trun": 297.503,
          "variable": "2020-09-30"
         },
         {
          "RegionName": "Los Angeles",
          "value": 558933,
          "value_trun": 558.933,
          "variable": "2020-10-31"
         },
         {
          "RegionName": "San Francisco",
          "value": 1027652,
          "value_trun": 1027.652,
          "variable": "2020-10-31"
         },
         {
          "RegionName": "Sacramento",
          "value": 303098,
          "value_trun": 303.098,
          "variable": "2020-10-31"
         },
         {
          "RegionName": "Los Angeles",
          "value": 564443,
          "value_trun": 564.443,
          "variable": "2020-11-30"
         },
         {
          "RegionName": "San Francisco",
          "value": 1017578,
          "value_trun": 1017.578,
          "variable": "2020-11-30"
         },
         {
          "RegionName": "Sacramento",
          "value": 308613,
          "value_trun": 308.613,
          "variable": "2020-11-30"
         },
         {
          "RegionName": "Los Angeles",
          "value": 567870,
          "value_trun": 567.87,
          "variable": "2020-12-31"
         },
         {
          "RegionName": "San Francisco",
          "value": 1011111,
          "value_trun": 1011.111,
          "variable": "2020-12-31"
         },
         {
          "RegionName": "Sacramento",
          "value": 314491,
          "value_trun": 314.491,
          "variable": "2020-12-31"
         },
         {
          "RegionName": "Los Angeles",
          "value": 570247,
          "value_trun": 570.247,
          "variable": "2021-01-31"
         },
         {
          "RegionName": "San Francisco",
          "value": 1011183,
          "value_trun": 1011.183,
          "variable": "2021-01-31"
         },
         {
          "RegionName": "Sacramento",
          "value": 318992,
          "value_trun": 318.992,
          "variable": "2021-01-31"
         },
         {
          "RegionName": "Los Angeles",
          "value": 576036,
          "value_trun": 576.036,
          "variable": "2021-02-28"
         },
         {
          "RegionName": "San Francisco",
          "value": 1016195,
          "value_trun": 1016.195,
          "variable": "2021-02-28"
         },
         {
          "RegionName": "Sacramento",
          "value": 324962,
          "value_trun": 324.962,
          "variable": "2021-02-28"
         },
         {
          "RegionName": "Los Angeles",
          "value": 581825,
          "value_trun": 581.825,
          "variable": "2021-03-31"
         },
         {
          "RegionName": "San Francisco",
          "value": 1024433,
          "value_trun": 1024.433,
          "variable": "2021-03-31"
         },
         {
          "RegionName": "Sacramento",
          "value": 329389,
          "value_trun": 329.389,
          "variable": "2021-03-31"
         },
         {
          "RegionName": "Los Angeles",
          "value": 590546,
          "value_trun": 590.546,
          "variable": "2021-04-30"
         },
         {
          "RegionName": "San Francisco",
          "value": 1029029,
          "value_trun": 1029.029,
          "variable": "2021-04-30"
         },
         {
          "RegionName": "Sacramento",
          "value": 336045,
          "value_trun": 336.045,
          "variable": "2021-04-30"
         },
         {
          "RegionName": "Los Angeles",
          "value": 601896,
          "value_trun": 601.896,
          "variable": "2021-05-31"
         },
         {
          "RegionName": "San Francisco",
          "value": 1039713,
          "value_trun": 1039.713,
          "variable": "2021-05-31"
         },
         {
          "RegionName": "Sacramento",
          "value": 342496,
          "value_trun": 342.496,
          "variable": "2021-05-31"
         },
         {
          "RegionName": "Los Angeles",
          "value": 616152,
          "value_trun": 616.152,
          "variable": "2021-06-30"
         },
         {
          "RegionName": "San Francisco",
          "value": 1050016,
          "value_trun": 1050.016,
          "variable": "2021-06-30"
         },
         {
          "RegionName": "Sacramento",
          "value": 350990,
          "value_trun": 350.99,
          "variable": "2021-06-30"
         },
         {
          "RegionName": "Los Angeles",
          "value": 631763,
          "value_trun": 631.763,
          "variable": "2021-07-31"
         },
         {
          "RegionName": "San Francisco",
          "value": 1068668,
          "value_trun": 1068.668,
          "variable": "2021-07-31"
         },
         {
          "RegionName": "Sacramento",
          "value": 360601,
          "value_trun": 360.601,
          "variable": "2021-07-31"
         },
         {
          "RegionName": "Los Angeles",
          "value": 640654,
          "value_trun": 640.654,
          "variable": "2021-08-31"
         },
         {
          "RegionName": "San Francisco",
          "value": 1078327,
          "value_trun": 1078.327,
          "variable": "2021-08-31"
         },
         {
          "RegionName": "Sacramento",
          "value": 368682,
          "value_trun": 368.682,
          "variable": "2021-08-31"
         },
         {
          "RegionName": "Los Angeles",
          "value": 647241,
          "value_trun": 647.241,
          "variable": "2021-09-30"
         },
         {
          "RegionName": "San Francisco",
          "value": 1089129,
          "value_trun": 1089.129,
          "variable": "2021-09-30"
         },
         {
          "RegionName": "Sacramento",
          "value": 375644,
          "value_trun": 375.644,
          "variable": "2021-09-30"
         },
         {
          "RegionName": "Los Angeles",
          "value": 649296,
          "value_trun": 649.296,
          "variable": "2021-10-31"
         },
         {
          "RegionName": "San Francisco",
          "value": 1095351,
          "value_trun": 1095.351,
          "variable": "2021-10-31"
         },
         {
          "RegionName": "Sacramento",
          "value": 376879,
          "value_trun": 376.879,
          "variable": "2021-10-31"
         },
         {
          "RegionName": "Los Angeles",
          "value": 653056,
          "value_trun": 653.056,
          "variable": "2021-11-30"
         },
         {
          "RegionName": "San Francisco",
          "value": 1101373,
          "value_trun": 1101.373,
          "variable": "2021-11-30"
         },
         {
          "RegionName": "Sacramento",
          "value": 378829,
          "value_trun": 378.829,
          "variable": "2021-11-30"
         },
         {
          "RegionName": "Los Angeles",
          "value": 657289,
          "value_trun": 657.289,
          "variable": "2021-12-31"
         },
         {
          "RegionName": "San Francisco",
          "value": 1105712,
          "value_trun": 1105.712,
          "variable": "2021-12-31"
         },
         {
          "RegionName": "Sacramento",
          "value": 380931,
          "value_trun": 380.931,
          "variable": "2021-12-31"
         }
        ]
       },
       "encoding": {
        "color": {
         "field": "RegionName",
         "scale": {
          "domain": [
           "Sacramento",
           "Los Angeles",
           "San Francisco"
          ],
          "range": [
           "#FFB81D",
           "#4E748B",
           "#00B3E3"
          ]
         },
         "title": "",
         "type": "ordinal"
        },
        "x": {
         "axis": {
          "labelAngle": -45,
          "labels": false
         },
         "field": "variable",
         "title": " ",
         "type": "temporal"
        },
        "y": {
         "axis": {
          "format": "$,f",
          "values": [
           0,
           200000,
           400000,
           600000,
           800000,
           1000000,
           1200000
          ]
         },
         "field": "value",
         "title": "",
         "type": "quantitative"
        }
       },
       "mark": "line",
       "width": 700
      },
      "image/png": "[encoded data removed]",
      "text/plain": [
       "alt.Chart(...)"
      ]
     },
     "execution_count": 42,
     "metadata": {},
     "output_type": "execute_result"
    }
   ],
   "source": [
    "alt.Chart(low_tier_ca).mark_line().encode(\n",
    "    alt.X('variable:T',title=\" \",axis=alt.Axis( labelAngle=-45,labels=False)),\n",
    "    alt.Y('value',title=\"\",\n",
    "          axis=alt.Axis(values=[0, 200000, 400000, 600000, 800000,1000000,1200000],format=\"$,f\")),\n",
    "    color=alt.Color('RegionName:O',title=\"\",scale=alt.Scale(domain=[\n",
    "                        \"Sacramento\",\"Los Angeles\",\"San Francisco\"],range=[\"#FFB81D\",\"#4E748B\",\"#00B3E3\",\n",
    "]))).configure_legend(orient=\"bottom\",labelLimit= 0,titleLimit=0,titleFontSize=18,symbolStrokeWidth=10,\n",
    "labelFontSize=20,labelFont=\"Georgia\",titleFont=\"Georgia\").configure_axis(domain=False,\n",
    "labelFont='Georgia',titleFont='Georgia',titleFontWeight=\"normal\",labelFontSize=15,titleFontSize=15).properties(\n",
    "    width=700\n",
    ")\n"
   ]
  },
  {
   "cell_type": "markdown",
   "id": "d47623a4",
   "metadata": {},
   "source": [
    "<div id=\"section4\"></div>\n",
    "\n",
    "## Figure 7: Share of Middle-Income Renters Paying More than 30% of Income in Rent, 2010 & 2019, by Race"
   ]
  },
  {
   "cell_type": "code",
   "execution_count": 43,
   "id": "e354fb87",
   "metadata": {},
   "outputs": [],
   "source": [
    "#get individual level PUMS data (above we were using household level)\n",
    "df_2019_person = check_for_PUMS_download('./psam_p06.csv',\"https://www2.census.gov/programs-surveys/acs/data/pums/2019/1-Year/csv_pca.zip\",\"./pums_2019.zip\")\n",
    "\n",
    "#filter for adults, relabel race data \n",
    "df_2019_person_over_18 = df_2019_person[df_2019_person.AGEP>=18]\n",
    "def fix_race(race,ethnicity):\n",
    "    \"\"\"\n",
    "    used in a lambda function to combine race and ethnicity columns in eden demographic data \n",
    "    \"\"\"\n",
    "    if ethnicity > 1:\n",
    "        return \"Hispanic\"\n",
    "    elif race == 1:\n",
    "        return \"NH White\"\n",
    "    elif race == 6:\n",
    "        return \"NH Asian\"\n",
    "    elif race == 2:\n",
    "        return \"NH Black\"\n",
    "    else:\n",
    "        return \"Other\"\n",
    "df_2019_person_over_18[\"Race_Coded\"] = df_2019_person_over_18.apply(lambda x: fix_race(x.RAC1P,x.HISP),axis=1)\n",
    "df_2019_person_over_18[\"person_id\"] = np.arange"
   ]
  },
  {
   "cell_type": "code",
   "execution_count": 44,
   "id": "e0001041",
   "metadata": {},
   "outputs": [],
   "source": [
    "#get individual level PUMS data (above we were using household level)\n",
    "df_2019_person = check_for_PUMS_download('./psam_p06.csv',\n",
    "    \"https://www2.census.gov/programs-surveys/acs/data/pums/2019/1-Year/csv_pca.zip\",\"./pums_2019.zip\")\n",
    "\n",
    "#filter for adults, relabel race data \n",
    "df_2019_person_over_18 = df_2019_person[df_2019_person.AGEP>=18]\n",
    "def fix_race(race,ethnicity):\n",
    "    \"\"\"\n",
    "    used in a lambda function to combine race and ethnicity columns in eden demographic data \n",
    "    \"\"\"\n",
    "    if ethnicity > 1:\n",
    "        return \"Hispanic\"\n",
    "    elif race == 1:\n",
    "        return \"NH White\"\n",
    "    elif race == 6:\n",
    "        return \"NH Asian\"\n",
    "    elif race == 2:\n",
    "        return \"NH Black\"\n",
    "    else:\n",
    "        return \"Other\"\n",
    "df_2019_person_over_18[\"Race_Coded\"] = df_2019_person_over_18.apply(lambda x: fix_race(x.RAC1P,x.HISP),axis=1)\n",
    "df_2019_person_over_18[\"person_id\"] = np.arange\n",
    "\n",
    "#here I am keeping only heads of household to mark as household race \n",
    "df_2019_person_over_18=df_2019_person_over_18[df_2019_person_over_18[\"RELSHIPP\"] == 20]\n",
    "df_2019_person_over_18 = df_2019_person_over_18[[\"SERIALNO\",\"Race_Coded\",\"WAGP\"]]\n",
    "#sort by serialno, wage desc, and then drop duplicates on serial no \n",
    "#household_race = df_2019_person_over_18[[\"SERIALNO\",\"Race_Coded\",\"WAGP\"]].sort_values([\"SERIALNO\",\"WAGP\"],ascending=False).drop_duplicates(subset=\"SERIALNO\")\n",
    "\n",
    "merged = df_2019.merge(df_2019_person_over_18,on=\"SERIALNO\")\n",
    "\n",
    "#make tenure verbose\n",
    "merged.replace({\"tenure\":{1:\"Owned with Mortgage\",2:\"Owned Free and Clear\",\n",
    "                          3:\"Rented\",4:\"Occupied without Payment of Rent\"}},inplace=True)\n",
    "\n",
    "merged['county_name'] = merged.County + \" County\"\n",
    "#merge on AMI data, cleaned above for use in charts 3\n",
    "merged_AMI = pd.merge(merged, amelti, on=['county_name', 'ppl_in_hh'], how='left')\n",
    "\n",
    "#filter for 2019 \n",
    "merged_AMI = merged_AMI[merged_AMI.year_y == 2019]\n",
    "\n",
    "def label_ami_band(ELI30,VLI50,LI80,MED100,MOD120,hh_income):\n",
    "    if hh_income <= ELI30:\n",
    "        return \"ELI\"\n",
    "    if hh_income <= VLI50:\n",
    "        return \"VLI\"\n",
    "    if hh_income <= LI80:\n",
    "        return \"LI\"\n",
    "#    if hh_income <= MED100:\n",
    "#        return \"MED\"\n",
    "    if hh_income <= MOD120:\n",
    "        return \"MOD\"\n",
    "    else:\n",
    "        return \"HIGH\"\n",
    "    \n",
    "#label income bands \n",
    "merged_AMI['income_band_label'] = merged_AMI.apply(lambda x: label_ami_band(x.ELI30,x.VLI50,x.LI80,\n",
    "                                                                            x.MED100,x.MOD120,x.hh_income), axis=1)\n",
    "\n",
    "#filter for middle income\n",
    "merged_AMI = merged_AMI[[\"Race_Coded\",\"weight\",\"county_name\",\"income_band_label\",\"tenure\",\"hh_income\"]]\n",
    "merged_AMI_mid = merged_AMI[merged_AMI.income_band_label == \"MOD\"]\n",
    "merged_AMI_mid = merged_AMI_mid.loc[:,~merged_AMI_mid.columns.duplicated()]\n",
    "merged_AMI_mid = merged_AMI_mid[merged_AMI_mid.tenure != \"Occupied without Payment of Rent\"]\n",
    "merged_AMI_mid = merged_AMI_mid[[\"Race_Coded\",\"tenure\",\"weight\"]].groupby([\"Race_Coded\",\"tenure\"]).sum().reset_index()\n",
    "merged_AMI_mid_race_totals = merged_AMI_mid.groupby([\"Race_Coded\"]).sum().reset_index()\n",
    "merged_AMI_mid = merged_AMI_mid.merge(merged_AMI_mid_race_totals,on=\"Race_Coded\",how=\"left\")\n",
    "merged_AMI_mid[\"percentage\"] = (merged_AMI_mid[\"weight_x\"]/merged_AMI_mid[\"weight_y\"])*100\n",
    "merged_AMI_mid = merged_AMI_mid.drop(columns=[\"weight_x\",\"weight_y\"])\n",
    "merged_AMI_mid_renter = merged_AMI_mid[merged_AMI_mid.tenure == \"Rented\"]\n",
    "merged_AMI_mid_renter.replace({\"Race_Coded\":{\"NH Asian\":\"Non-Hispanic Asian\",\n",
    "                                            \"NH Black\":\"Non-Hispanic Black\",\n",
    "                                            \"NH White\":\"Non-Hispanic White\"}},inplace=True)"
   ]
  },
  {
   "cell_type": "code",
   "execution_count": 45,
   "id": "9a60268a",
   "metadata": {},
   "outputs": [
    {
     "data": {
      "application/vnd.vegalite.v4+json": {
       "$schema": "https://vega.github.io/schema/vega-lite/v4.17.0.json",
       "config": {
        "axis": {
         "domain": false,
         "labelFont": "Georgia",
         "labelFontSize": 15,
         "titleFont": "Georgia",
         "titleFontSize": 15,
         "titleFontWeight": "normal"
        },
        "legend": {
         "direction": "vertical",
         "labelFont": "Georgia",
         "labelFontSize": 20,
         "labelLimit": 0,
         "titleFont": "Georgia",
         "titleFontSize": 18,
         "titleLimit": 0
        },
        "view": {
         "continuousHeight": 300,
         "continuousWidth": 400
        }
       },
       "data": {
        "name": "data-aeacec0282aafd8faea91c5f2f18274e"
       },
       "datasets": {
        "data-aeacec0282aafd8faea91c5f2f18274e": [
         {
          "Race_Coded": "Hispanic",
          "percentage": 49.36709665561176,
          "percentage_for_chart": 0.4936709665561176,
          "tenure": "Rented"
         },
         {
          "Race_Coded": "Non-Hispanic Asian",
          "percentage": 38.8154615607651,
          "percentage_for_chart": 0.388154615607651,
          "tenure": "Rented"
         },
         {
          "Race_Coded": "Non-Hispanic Black",
          "percentage": 59.38679588718271,
          "percentage_for_chart": 0.5938679588718271,
          "tenure": "Rented"
         },
         {
          "Race_Coded": "Non-Hispanic White",
          "percentage": 37.858178266295724,
          "percentage_for_chart": 0.3785817826629572,
          "tenure": "Rented"
         },
         {
          "Race_Coded": "Other",
          "percentage": 54.69904641055558,
          "percentage_for_chart": 0.5469904641055559,
          "tenure": "Rented"
         }
        ]
       },
       "encoding": {
        "color": {
         "field": "Race_Coded",
         "scale": {
          "domain": [
           "Non-Hispanic Black",
           "Other",
           "Hispanic",
           "Non-Hispanic Asian",
           "Non-Hispanic White"
          ],
          "range": [
           "#4E748B",
           "#FFB81D",
           "#B7B09D",
           "#00B3E3",
           "#E74C39"
          ]
         },
         "title": "",
         "type": "ordinal"
        },
        "x": {
         "axis": {
          "labelAngle": -45,
          "labels": false
         },
         "field": "Race_Coded",
         "sort": "-y",
         "title": " ",
         "type": "ordinal"
        },
        "y": {
         "axis": {
          "format": "%"
         },
         "field": "percentage_for_chart",
         "title": [
          "Percent of Middle-Income Households"
         ],
         "type": "quantitative"
        }
       },
       "mark": "bar",
       "width": 300
      },
      "image/png": "[encoded data removed]",
      "text/plain": [
       "alt.Chart(...)"
      ]
     },
     "execution_count": 45,
     "metadata": {},
     "output_type": "execute_result"
    }
   ],
   "source": [
    "merged_AMI_mid_renter[\"percentage_for_chart\"] = merged_AMI_mid_renter[\"percentage\"]/100\n",
    "alt.Chart(merged_AMI_mid_renter).mark_bar().encode(\n",
    "    alt.X('Race_Coded:O',title=\" \",sort=\"-y\",axis=alt.Axis( labelAngle=-45,labels=False)),\n",
    "    alt.Y('percentage_for_chart',title=[\"Percent of Middle-Income Households\"],\n",
    "          axis=alt.Axis(format='%')),\n",
    "    color=alt.Color('Race_Coded:O',title=\"\",scale=alt.Scale(domain=[\n",
    "                        \"Non-Hispanic Black\",\"Other\",\"Hispanic\",\n",
    "                        \"Non-Hispanic Asian\",\n",
    "                        \"Non-Hispanic White\"],range=[\"#4E748B\",\"#FFB81D\",\n",
    "\"#B7B09D\",\"#00B3E3\",\"#E74C39\"]))).configure_legend(direction=\"vertical\",labelLimit= 0,titleLimit=0,titleFontSize=18,\n",
    "labelFontSize=20,labelFont=\"Georgia\",\n",
    "titleFont=\"Georgia\").configure_axis(domain=False,labelFont='Georgia',titleFont='Georgia',\n",
    "titleFontWeight=\"normal\",labelFontSize=15,titleFontSize=15).properties(width=300)"
   ]
  },
  {
   "cell_type": "markdown",
   "id": "46f7f2dc",
   "metadata": {},
   "source": [
    "<div id=\"section5\"></div>\n",
    "\n",
    "## Figure 8: Number of Home Purchase Loans Originated, by Race/Ethnicity, 2020"
   ]
  },
  {
   "cell_type": "code",
   "execution_count": 46,
   "id": "5bd7dd9b",
   "metadata": {},
   "outputs": [],
   "source": [
    "def read_in_and_clean_hdma_data(df):\n",
    "    \"\"\"\n",
    "    inputs:\n",
    "        df (dataframe)\n",
    "\n",
    "    various filters for HMDA data, described in-line \n",
    "\n",
    "    \"\"\"\n",
    "    df = df[df.derived_loan_product_type.isin([\"Conventional:First Lien\",\"FHA:First Lien\",\n",
    "                                           \"VA:First Lien\",\"FSA/RHS:First Lien\"])] #first lien types \n",
    "    df = df[df.business_or_commercial_purpose == 2] #Not primarily for a business or commercial purpose\n",
    "    df = df[df.loan_purpose == 1] #Home purchase\n",
    "    df = df[df.total_units.isin([1,2,3,4])] #dwelling type \n",
    "    df = df[df.occupancy_type == 1]  #Principal residence\n",
    "    df = df[df.action_taken == 1]  #loan actually originated\n",
    "    return df"
   ]
  },
  {
   "cell_type": "code",
   "execution_count": 47,
   "id": "b4bd8b00",
   "metadata": {},
   "outputs": [],
   "source": [
    "#check to see if HMDA data in current filepath, if not call API \n",
    "if os.path.isfile('./hmda_MM_2020.csv'):\n",
    "    hmda = pd.read_csv(\"hmda_MM_2020.csv\")\n",
    "else:\n",
    "    #read in hmda data \n",
    "    url = \"https://ffiec.cfpb.gov/v2/data-browser-api/view/csv?states=CA&years=2020&actions_taken=1\"\n",
    "    hmda = pd.read_csv(url)\n",
    "    hmda = read_in_and_clean_hdma_data(hmda)\n",
    "    hmda.to_csv(\"hmda_MM_2020.csv\")"
   ]
  },
  {
   "cell_type": "code",
   "execution_count": 48,
   "id": "660a359a",
   "metadata": {},
   "outputs": [],
   "source": [
    "#filter out 42,469 loans for which we don't have race and/or ethnicity data \n",
    "hmda = hmda[(hmda[\"derived_race\"] != \"Race Not Available\")|(hmda[\"derived_ethnicity\"]!=\"Ethnicity Not Available\")]"
   ]
  },
  {
   "cell_type": "code",
   "execution_count": 50,
   "id": "9974d873",
   "metadata": {},
   "outputs": [],
   "source": [
    "#using codes from  https://s3.amazonaws.com/cfpb-hmda-public/prod/help/2018-public-LAR-code-sheet.pdf \n",
    "#simplifying racial and ethnic categorie available \n",
    "ethnicity = {1:\"Hispanic\",\n",
    "            11:\"Hispanic\",12:\"Hispanic\",13:\"Hispanic\",\n",
    "            14:\"Hispanic\",2:\"Hispanic\",\n",
    "            3:\"Information not provided by applicant\",\n",
    "            4:\"Not Applicable\"}\n",
    "race = {1:\"Other\",\n",
    "        2:\"Asian\",21:\"Asian\",22:\"Asian\",\n",
    "        23:\"Asian\",24:\"Asian\",25:\"Asian\",\n",
    "        26:\"Asian\",27:\"Asian\",3:\"Black\",\n",
    "        4:\"Other\",41:\"Other\",42:\"Other\",\n",
    "        43:\"Other\",44:\"Other\",5:\"White\",\n",
    "        6:\"Not Applicable\"}\n",
    "\n",
    "def hispanic(x,y):\n",
    "    if x ==\"White\":\n",
    "        if y == 'Hispanic or Latino':\n",
    "            return \"Hispanic\"\n",
    "        else:\n",
    "            return x\n",
    "    else:\n",
    "        return x\n",
    "     \n",
    "hmda[\"race\"] = hmda.apply(lambda x: hispanic(x.derived_race,x.derived_ethnicity), axis=1)\n",
    "\n",
    "race_map = {'White':\"Non-Hispanic White\", \n",
    " 'Race Not Available':\"dropme\",\n",
    " 'Asian':\"Non-Hispanic Asian\", \n",
    " 'Hispanic':\"Hispanic\",\n",
    " 'Black or African American':\"Non-Hispanic Black\",\n",
    " 'Joint':\"Other\",\n",
    " 'American Indian or Alaska Native':\"Other\",\n",
    " 'Native Hawaiian or Other Pacific Islander':\"Other\", \n",
    " '2 or more minority races':\"Other\",\n",
    " 'Free Form Text Only':\"dropme\"}\n",
    "hmda[\"race\"] = hmda[\"race\"].map(race_map)"
   ]
  },
  {
   "cell_type": "code",
   "execution_count": 51,
   "id": "ef98a7a6",
   "metadata": {},
   "outputs": [],
   "source": [
    "#keep only race categories we want for chart \n",
    "hmda = hmda[hmda[\"race\"].isin(['Hispanic','Non-Hispanic White',\n",
    "        'Non-Hispanic Asian','Non-Hispanic Black', \"Other\"])]\n",
    "hmda[\"unique_id\"] = np.arange(hmda.shape[0])#create unique id for each row\n",
    "hmda_chart = hmda[[\"race\",\"unique_id\"]]#filter for just race and unique_id"
   ]
  },
  {
   "cell_type": "code",
   "execution_count": 53,
   "id": "7521efed",
   "metadata": {},
   "outputs": [],
   "source": [
    "#get counts by category \n",
    "hmda_chart = hmda_chart.race.value_counts(normalize=True).reset_index()\n",
    "hmda_chart.rename(columns={\"index\":\"race_cat\",\n",
    "                          \"race\":\"count\"},inplace=True)"
   ]
  },
  {
   "cell_type": "code",
   "execution_count": 54,
   "id": "8c229fdb",
   "metadata": {},
   "outputs": [
    {
     "data": {
      "application/vnd.vegalite.v4+json": {
       "$schema": "https://vega.github.io/schema/vega-lite/v4.17.0.json",
       "config": {
        "axis": {
         "domain": false,
         "labelFont": "Georgia",
         "labelFontSize": 15,
         "titleFont": "Georgia",
         "titleFontSize": 15,
         "titleFontWeight": "normal"
        },
        "legend": {
         "direction": "vertical",
         "labelFont": "Georgia",
         "labelFontSize": 20,
         "labelLimit": 0,
         "titleFont": "Georgia",
         "titleFontSize": 18,
         "titleLimit": 0
        },
        "view": {
         "continuousHeight": 300,
         "continuousWidth": 400
        }
       },
       "data": {
        "name": "data-c004366a47f4b325e9d816ce08a90aec"
       },
       "datasets": {
        "data-c004366a47f4b325e9d816ce08a90aec": [
         {
          "count": 0.5137924729352273,
          "race_cat": "Non-Hispanic White"
         },
         {
          "count": 0.20175156524864282,
          "race_cat": "Hispanic"
         },
         {
          "count": 0.18294336101285616,
          "race_cat": "Non-Hispanic Asian"
         },
         {
          "count": 0.063435917806319,
          "race_cat": "Other"
         },
         {
          "count": 0.038076682996954624,
          "race_cat": "Non-Hispanic Black"
         }
        ]
       },
       "encoding": {
        "color": {
         "field": "race_cat",
         "scale": {
          "domain": [
           "Non-Hispanic White",
           "Hispanic",
           "Non-Hispanic Asian",
           "Other",
           "Non-Hispanic Black"
          ],
          "range": [
           "#E74C39",
           "#B7B09D",
           "#00B3E3",
           "#FFB81D",
           "#4E748B"
          ]
         },
         "title": "",
         "type": "ordinal"
        },
        "x": {
         "axis": {
          "labels": false
         },
         "field": "race_cat",
         "sort": [
          "Non-Hispanic White",
          "Hispanic",
          "Non-Hispanic Asian",
          "Two or More Races",
          "Other",
          "Non-Hispanic Black"
         ],
         "title": " ",
         "type": "ordinal"
        },
        "y": {
         "axis": {
          "format": "%",
          "values": [
           0,
           0.1,
           0.2,
           0.3,
           0.4,
           0.5,
           0.6
          ]
         },
         "field": "count",
         "title": [
          "Home Purchase Loans Originated"
         ],
         "type": "quantitative"
        }
       },
       "mark": "bar",
       "width": 300
      },
      "image/png": "[encoded data removed]",
      "text/plain": [
       "alt.Chart(...)"
      ]
     },
     "execution_count": 54,
     "metadata": {},
     "output_type": "execute_result"
    }
   ],
   "source": [
    "alt.Chart(hmda_chart).mark_bar().encode(\n",
    "    alt.X('race_cat:O',title=\" \",sort=[\"Non-Hispanic White\",\"Hispanic\",\n",
    "        \"Non-Hispanic Asian\",\"Two or More Races\",\"Other\",\"Non-Hispanic Black\",\n",
    "        ],axis=alt.Axis(labels=False)),\n",
    "    alt.Y('count:Q',title=[\"Home Purchase Loans Originated\"],\n",
    "          axis=alt.Axis(format='%',values=[0, .10, .20, .30, .40,.50,.60])),\n",
    "    color=alt.Color('race_cat:O',title=\"\",\n",
    "scale=alt.Scale(domain=[\"Non-Hispanic White\",\"Hispanic\",\n",
    "        \"Non-Hispanic Asian\",\"Other\",\"Non-Hispanic Black\"\n",
    "        ],\n",
    "    range=[\"#E74C39\",\"#B7B09D\",\"#00B3E3\",\"#FFB81D\",\"#4E748B\"]))).configure_legend(direction=\"vertical\",\n",
    "                                labelLimit= 0,titleLimit=0,titleFontSize=18,\n",
    "labelFontSize=20,labelFont=\"Georgia\",titleFont=\"Georgia\").configure_axis(domain=False,\n",
    "        labelFont='Georgia',titleFont='Georgia',titleFontWeight=\"normal\",labelFontSize=15,\n",
    "        titleFontSize=15).properties(width=300)"
   ]
  }
 ],
 "metadata": {
  "kernelspec": {
   "display_name": "Python 3",
   "language": "python",
   "name": "python3"
  },
  "language_info": {
   "codemirror_mode": {
    "name": "ipython",
    "version": 3
   },
   "file_extension": ".py",
   "mimetype": "text/x-python",
   "name": "python",
   "nbconvert_exporter": "python",
   "pygments_lexer": "ipython3",
   "version": "3.9.9"
  }
 },
 "nbformat": 4,
 "nbformat_minor": 5
}
