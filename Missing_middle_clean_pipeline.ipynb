{
 "cells": [
  {
   "cell_type": "markdown",
   "id": "4c87dc97",
   "metadata": {},
   "source": [
    "# Middle Income Renters and Homeowners in California\n",
    "\n",
    "Analysis to better understand the current economic state and composition of Middle Income Renters and Homeowners (80-120% of AMI) in California. \n",
    "\n",
    "The notebook is broken up into sections. Functions are kept within the notebook for ease of code review:\n",
    "\n",
    "0. [Load and Clean ACS Household Data](#section0)\n",
    "\n",
    "1. [Renter and Mortgage Holder Cost Burden Charts ](#section1)\n",
    "    - Charts 3A and 3B, respectively, in the Missing Middle Brief \n",
    "2. [Load and Clean ACS Person Data](#section2)\n",
    "\n",
    "3. [Share of Middle-Income Renters Paying More than 30% of Income in Rent, 2010 & 2019, by Race](#section3)\n",
    "    - Chart 4 in Missing Middle Brief \n",
    " \n",
    "Data from:\n",
    "- 2019 and 2010 PUMS \n",
    "- HCD AMI Limits https://www.hcd.ca.gov/grants-funding/income-limits/state-and-federal-income-limits/docs/income-limits-2019.pdf\n",
    "- Geography Crosswalks from MCDC http://mcdc.missouri.edu/applications/geocorr2018.html"
   ]
  },
  {
   "cell_type": "code",
   "execution_count": 104,
   "id": "42694edc",
   "metadata": {},
   "outputs": [
    {
     "data": {
      "text/plain": [
       "RendererRegistry.enable('altair_saver')"
      ]
     },
     "execution_count": 104,
     "metadata": {},
     "output_type": "execute_result"
    }
   ],
   "source": [
    "import pandas as pd\n",
    "import numpy as np\n",
    "import warnings\n",
    "import wquantiles as wq\n",
    "from statistics import mean\n",
    "import os\n",
    "import altair as alt\n",
    "from urllib.request import urlopen\n",
    "import zipfile\n",
    "\n",
    "pd.set_option('display.max_columns', None)\n",
    "pd.options.display.float_format = '{:.2f}'.format\n",
    "warnings.filterwarnings('ignore')\n",
    "\n",
    "#NOTE only need below change to altair rendering to have static altair images render on github \n",
    "#b/c github scrubs javascript CAN REMOVE if running locally\n",
    "#Also, if you do want this to work for some reason, need to have selenium/chromedriver installed \n",
    "alt.renderers.enable('altair_saver', fmts=['vega-lite', 'png'])"
   ]
  },
  {
   "cell_type": "markdown",
   "id": "42ecc9c5",
   "metadata": {},
   "source": [
    "<div id=\"section0\"></div>\n",
    "\n",
    "# Load and Clean PUMS Data"
   ]
  },
  {
   "cell_type": "code",
   "execution_count": 105,
   "id": "4e45719f",
   "metadata": {},
   "outputs": [],
   "source": [
    "def check_for_PUMS_download(filename,zip_location,zip_name):\n",
    "    \"\"\"\n",
    "    inputs:\n",
    "        filename (str) - name of csv downloaded from PUMS \n",
    "        zip_location (str) - location of zip file (can edit URL for year/version of data)\n",
    "        zip_name (str) - name of the zip file downloaded from the zip location to open \n",
    "        \n",
    "    here checking to see if 2019 1-year PUMS data is in the current directory, if not, downloading and unzipping \n",
    "    it to the current directory (can place is somewhere else by modifying filepath of zip_directory)\n",
    "    \"\"\"\n",
    "    if os.path.isfile(filename):\n",
    "        df = pd.read_csv(filename)\n",
    "        return df\n",
    "    else:\n",
    "        PUMS_url = zip_location\n",
    "        zip_directory = os.getcwd() \n",
    "        url = urlopen(PUMS_url)\n",
    "        output = open(zip_name, 'wb')           \n",
    "        output.write(url.read())\n",
    "        output.close()\n",
    "        with zipfile.ZipFile(zip_name, 'r') as zip_ref:\n",
    "            zip_ref.extractall(zip_directory)\n",
    "        df = pd.read_csv(filename)\n",
    "    return df\n",
    "\n",
    "df_2019 = check_for_PUMS_download('./psam_h06.csv',\"https://www2.census.gov/programs-surveys/acs/data/pums/2019/1-Year/csv_hca.zip\",\"./pums_2019.zip\")\n",
    "df_2010 = check_for_PUMS_download('./ss10hca.csv',\"https://www2.census.gov/programs-surveys/acs/data/pums/2010/1-Year/csv_hca.zip\",'./pums_2010.zip')"
   ]
  },
  {
   "cell_type": "code",
   "execution_count": 106,
   "id": "f4158021",
   "metadata": {},
   "outputs": [],
   "source": [
    "#rename columns and only keep subset (extra cols were for some exploratory analysis) \n",
    "def rename_cols(df):\n",
    "    \"\"\"\n",
    "    inputs:\n",
    "        df (dataframe): PUMS data\n",
    "    Renames columns with more verbose names and returns subset of columns\n",
    "    \"\"\"\n",
    "    df.rename(columns={\"RT\":\"record_type\",\n",
    "                     \"TYPE\":\"type\",\n",
    "                     \"BLD\":\"units_in_structure\",\n",
    "                     \"BDSP\":\"number_bedrooms\",\n",
    "                     \"RNTP\":\"monthly_rent\",\n",
    "                     \"MRGP\":\"first_mortgage\",\n",
    "                     \"SMP\":\"second_mortgage\",\n",
    "                     \"TEN\":\"tenure\",\n",
    "                     \"VACS\":\"vacancy_status\",\n",
    "                     \"VALP\":\"property_value\",\n",
    "                     \"GRPIP\":\"gross_rent_pct_of_income\",\n",
    "                     \"GRNTP\":\"gross_rent\",\n",
    "                     \"SMOCP\":\"select_owner_cost\",\n",
    "                     \"OCPIP\":\"select_owner_cost_pct_of_income\",\n",
    "                     \"HINCP\":\"hh_income\",\n",
    "                     \"NP\":\"ppl_in_hh\",\n",
    "                     \"NRC\":\"num_relate_chldrn\",\n",
    "                     \"NOC\":\"num_own_chldrn\",\n",
    "                     \"WGTP\":\"weight\",\n",
    "                     \"YBL\": \"year_built\",\n",
    "                     }, inplace=True)\n",
    "\n",
    "    df = df[[\"SERIALNO\",\"hh_income\",\"first_mortgage\",\"select_owner_cost\",\"gross_rent_pct_of_income\",\"select_owner_cost_pct_of_income\",\"second_mortgage\",\"ppl_in_hh\",'PUMA',\"gross_rent\",\"monthly_rent\",\"weight\",\"year_built\",\"tenure\",\"property_value\"]]\n",
    "    return df \n",
    "\n",
    "df_2019 = rename_cols(df_2019)\n",
    "df_2010 = rename_cols(df_2010)\n",
    "#to calc ami ranges we need household income, safely drop (this drop 16382 records from 2010;24148 from 2019 )\n",
    "df_2019 = df_2019.dropna(subset=[\"hh_income\"])\n",
    "df_2010 = df_2010.dropna(subset=[\"hh_income\"])"
   ]
  },
  {
   "cell_type": "markdown",
   "id": "c99076e0",
   "metadata": {},
   "source": [
    "### Crosswalk and Weighting "
   ]
  },
  {
   "cell_type": "code",
   "execution_count": 107,
   "id": "0b4b6622",
   "metadata": {},
   "outputs": [],
   "source": [
    "#import and clean a PUMA to county crosswalk from mcdc for both 2010 and 2019 (need both b/c pumas change)\n",
    "def import_clean_crosswalk(location,county_col,puma_col):\n",
    "    \"\"\"\n",
    "    inputs:\n",
    "        location (str): Location of crosswalk csv\n",
    "        county_col (str): name of column with counties \n",
    "        puma_col (str): name of column with PUMAs\n",
    "    Reads in and cleans up crosswalk files from geocorr, returning subset of columns\n",
    "    \"\"\"\n",
    "    #PUMA - County Crosswalk URL generated from https://mcdc.missouri.edu/applications/geocorr2018.html with puma12 & county14\n",
    "    crosswalk_county = pd.read_csv(location)\n",
    "    crosswalk_county = crosswalk_county.iloc[1:]\n",
    "    crosswalk_county[county_col] = crosswalk_county[county_col].str.replace(r' CA', '')\n",
    "    crosswalk_county = crosswalk_county[[puma_col,county_col,\"afact\"]]\n",
    "    crosswalk_county.rename(columns={puma_col:\"PUMA\",county_col:\"County\"},inplace=True)\n",
    "    return crosswalk_county\n",
    "\n",
    "#create PUMA county crosswalk for the seperate years \n",
    "crosswalk_county_2019 = import_clean_crosswalk(\"geocorr2018_2115904557.csv\",'cntyname2',\"puma12\")\n",
    "crosswalk_county_2010 = import_clean_crosswalk(\"geocorr_old_pumas.csv\",\"cntyname\",\"puma2k\")"
   ]
  },
  {
   "cell_type": "code",
   "execution_count": 108,
   "id": "d33423c3",
   "metadata": {},
   "outputs": [],
   "source": [
    "def crosswalk_weighting(df,crosswalk):\n",
    "    \"\"\"\n",
    "    inputs:\n",
    "        df (dataframe): PUMS data \n",
    "        crosswalk (dataframe): crosswalk of PUMAs to Counties with weights \n",
    "        puma_col (str): name of column with PUMAs\n",
    "    Splits dataset between places with 1 to 1 PUMA matches to counties, do those matches, and then those \n",
    "    with many to 1 matches with weights, multiplies by the weights, and then concat\n",
    "    \"\"\"\n",
    "    crosswalk.PUMA = crosswalk.PUMA.astype(str).str.zfill(5)\n",
    "    crosswalk.afact = crosswalk.afact.astype(float)\n",
    "    #clean merger\n",
    "    clean_crosswalks = crosswalk[crosswalk.afact.astype(float)==1]\n",
    "    clean_crosswalks_PUMAs = clean_crosswalks.PUMA.unique()\n",
    "    df.PUMA = df.PUMA.astype(str).str.zfill(5)\n",
    "    df_clean_merger = df[df.PUMA.isin(clean_crosswalks_PUMAs)]\n",
    "    df_clean = pd.merge(df_clean_merger, clean_crosswalks, on='PUMA', how='left')\n",
    "    df_clean = df_clean.drop_duplicates()\n",
    "     \n",
    "    #weighted crosswalks \n",
    "    weighted_crosswalks = crosswalk[crosswalk.afact <1]\n",
    "    weighted_crosswalks = weighted_crosswalks[weighted_crosswalks.afact != 0]\n",
    "    weighted_crosswalks_PUMA = weighted_crosswalks.PUMA.unique()\n",
    "    df_weighted = df[df.PUMA.isin(weighted_crosswalks_PUMA)]\n",
    "\n",
    "    df_weighted = df_weighted.merge(weighted_crosswalks, on='PUMA',how=\"left\")\n",
    "    df_weighted[\"weight\"] = df_weighted[\"weight\"] * df_weighted[\"afact\"]\n",
    "    df_weighted = df_weighted[df_weighted.weight != 0]\n",
    "    \n",
    "    full_data = pd.concat([df_clean,df_weighted])\n",
    "    full_data = full_data.drop_duplicates()\n",
    "    full_data['county_name'] = full_data.County + \" County\"\n",
    "    return full_data\n",
    "\n",
    "df_2019 = crosswalk_weighting(df_2019,crosswalk_county_2019)\n",
    "df_2010 = crosswalk_weighting(df_2010,crosswalk_county_2010)"
   ]
  },
  {
   "cell_type": "code",
   "execution_count": 109,
   "id": "3c7df47a",
   "metadata": {},
   "outputs": [],
   "source": [
    "#merge on AMI bands for county/year/household size combos\n",
    "AMI=pd.read_csv(\"CA_AMI_wide.csv\")#csv with HCD AMI Bands from HCD website \n",
    "AMI=AMI[AMI.year.isin([2010,2019])]\n",
    "#reshape data \n",
    "amelti = AMI.melt(id_vars=['county_name',  'year'])\n",
    "amelti['hh'] = amelti.variable.apply(lambda x: x.split('_')[0])\n",
    "amelti['idk'] = amelti.variable.apply(lambda x: x.split('_')[1])\n",
    "amelti = amelti.pivot_table(index=['county_name','year', 'hh'], columns=['idk'], values='value').reset_index()\n",
    "amelti['ppl_in_hh'] = amelti.hh.apply(lambda x: int(x.replace('hh','')))\n",
    "#adjust for a weird quick in AMI calculations where sometimes 80% AMI is higher than 100% AMI\n",
    "amelti[\"LI80\"] = np.where(amelti[\"LI80\"] > amelti[\"MED100\"],amelti[\"MED100\"],amelti[\"LI80\"])"
   ]
  },
  {
   "cell_type": "code",
   "execution_count": 110,
   "id": "d2038f2b",
   "metadata": {},
   "outputs": [],
   "source": [
    "#merge 2010 and 2019 data \n",
    "df_2010['year'] = 2010\n",
    "df_2019['year'] = 2019\n",
    "df = df_2010.append(df_2019, ignore_index=True)"
   ]
  },
  {
   "cell_type": "markdown",
   "id": "ee17a215",
   "metadata": {},
   "source": [
    "### Calculate weighted percentage of renters and homeowners that are cost burdened "
   ]
  },
  {
   "cell_type": "code",
   "execution_count": 111,
   "id": "e78043bf",
   "metadata": {},
   "outputs": [],
   "source": [
    "def calc_burdern(df,variable,final_variable_name,mid=False):\n",
    "    \"\"\"\n",
    "    Inputs:\n",
    "        df (dataframe) - PUMS data\n",
    "        variable (str) - name of PUMS variable to check for financial burden\n",
    "                         in this likely gross_rent or select_owner_cost\n",
    "        final_variable_name (str) - name of new column for type of burden \n",
    "        mid (bool) - True if you want to filter for just middle income, false if want all AMI Bands \n",
    "    Calculate percent burdended (>30 of income to rent or home ownership costs) of each AMI Band, filtering for just \n",
    "    middle income in mid=True\n",
    "    \"\"\"\n",
    "    df = df.dropna(subset=[\"hh_income\",variable])\n",
    "    df = df[df['hh_income'] >=0] #drop negative hh income  \n",
    "    df = df[(df.gross_rent != ' ')] \n",
    "    df = pd.merge(df, amelti, on=[ 'year', 'ppl_in_hh'], how='left')\n",
    "    df['elow_income'] = np.where((df[\"hh_income\"] < df[\"ELI30\"]), 1, 0)\n",
    "    df['vlow_income'] = np.where((df[\"hh_income\"] >= df[\"ELI30\"])&(df[\"hh_income\"] < df[\"VLI50\"]), 1, 0)\n",
    "    df['low_income'] = np.where((df[\"hh_income\"] >= df[\"VLI50\"])&(df[\"hh_income\"] < df[\"LI80\"]), 1, 0)\n",
    "    df['middle_income'] = np.where((df[\"hh_income\"] >= df[\"LI80\"])&(df[\"hh_income\"] < df[\"MOD120\"]), 1, 0)\n",
    "    df['high_income'] = np.where((df[\"hh_income\"] >= df[\"MOD120\"]), 1, 0)\n",
    "    if mid == True:\n",
    "        df = df[df.middle_income==1]\n",
    "    df['monthly_income'] = df.hh_income/12\n",
    "    df[variable+'_percent'] = df[variable]/df['monthly_income']\n",
    "    df[final_variable_name] = np.where(df[variable+'_percent']>.3,1,0)\n",
    "    return df\n",
    "    \n",
    "df_mid_mortgage_burden = calc_burdern(df,\"select_owner_cost\",'Mortgage_Burdened',mid=True)    \n",
    "df_mid_rent_burden = calc_burdern(df,\"gross_rent\",'Rent_Burdened',mid=True)  \n",
    "\n",
    "df_mortgage_burden_chart = calc_burdern(df,\"select_owner_cost\",'Mortgage_Burdened',mid=False)\n",
    "df_rent_burden_chart = calc_burdern(df,\"gross_rent\",'Rent_Burdened',mid=False)"
   ]
  },
  {
   "cell_type": "code",
   "execution_count": 112,
   "id": "c304fc5b",
   "metadata": {},
   "outputs": [],
   "source": [
    "#the below reshapes data to make bar charts \n",
    "\n",
    "def status_col(burden,sev_burden):\n",
    "    \"\"\"\n",
    "    Small lambda function to return strings stating burden status \n",
    "    \"\"\"\n",
    "    if sev_burden == 1:\n",
    "        return \"Share Severely Burdened\"\n",
    "    if burden==1:\n",
    "        return \"Share Burdened\"\n",
    "    else:\n",
    "        return \"Not Burdened\"\n",
    "\n",
    "def make_income_chart_correct(df,variable,input_year):\n",
    "    \"\"\"\n",
    "    inputs:\n",
    "        df (dataframe): PUMS data\n",
    "        variable (str): Which variable (rent or mortgage) that you want to calculate share burdened for. \n",
    "        input_year (int): Which year to be analyized (in current format of notebook, either 2010 or 2019)\n",
    "    Returns data in correct format for bar chart\n",
    "    \n",
    "    \"\"\"\n",
    "    df = df[df.year == input_year]\n",
    "    df[\"Share Burdened\"] = np.where((df[variable] > .3),1,0)\n",
    "    df[\"Share Severely Burdened\"] = np.where(df[variable] > .5,1,0)\n",
    "    #if variable == \"gross_rent_percent\":\n",
    "    #    df = df[df.tenure==1]\n",
    "    df_graph = df[[\"weight\",'elow_income', 'vlow_income', 'low_income', 'middle_income',\n",
    "           'high_income', 'Share Burdened', 'Share Severely Burdened']]\n",
    "    df_graph[['elow_income', 'vlow_income', 'low_income', 'middle_income','high_income']] = df_graph[['elow_income', 'vlow_income', 'low_income', 'middle_income','high_income']].multiply(df_graph[\"weight\"], axis=\"index\") \n",
    "\n",
    "    df_graph = df_graph.drop(columns=[\"weight\"])\n",
    "    df_graph = df_graph.melt(id_vars=['Share Burdened', 'Share Severely Burdened'])\n",
    "    df_graph = df_graph.groupby([\"Share Burdened\",\"Share Severely Burdened\",\"variable\"]).sum().reset_index()\n",
    "\n",
    "    df_graph['Status'] = df_graph[[\"Share Burdened\",\"Share Severely Burdened\"]].apply(lambda x: status_col(x[\"Share Burdened\"],x[\"Share Severely Burdened\"]), axis=1)\n",
    "    df_graph.drop(columns=[\"Share Burdened\",\"Share Severely Burdened\"],inplace=True)\n",
    "\n",
    "    df_graph = df_graph.groupby([\"variable\",\"Status\"]).sum()\n",
    "    df_graph[\"percent\"] = df_graph.groupby(level=0).apply(lambda x: 100 * x / float(x.sum()))\n",
    "    df_graph = df_graph.reset_index()\n",
    "\n",
    "    df_graph_totals = df_graph.groupby(\"Status\").sum().reset_index()\n",
    "    df_graph_totals[\"percent\"] = (df_graph_totals[\"value\"]/df_graph_totals[\"value\"].sum())*100\n",
    "    df_graph_totals[\"variable\"] = \"Total\"\n",
    "    final_graph = pd.concat([df_graph,df_graph_totals])\n",
    "    final_graph[\"year\"] = input_year\n",
    "    final_graph.replace({\"variable\":{'elow_income':\"Extremely Low Income\", \n",
    "                                    'high_income':\"High Incomes\", \n",
    "                                    'low_income':\"Low Income\", \n",
    "                                    'middle_income':\"Middle Income\",\n",
    "                                    'vlow_income':\"Very Low Income\", \n",
    "                                    'Total':\"All Incomes\"}},inplace=True)\n",
    "    final_graph = final_graph[final_graph.variable !=\"High Incomes\"]\n",
    "    final_graph = final_graph[final_graph.Status !=\"Not Burdened\"]  \n",
    "    \n",
    "    if variable == \"gross_rent_percent\":\n",
    "        final_graph[\"Household Type\"] = \"Renter\"\n",
    "        \n",
    "    if variable == \"select_owner_cost_percent\":\n",
    "        final_graph[\"Household Type\"] = \"Mortgage Holder\"\n",
    "    \n",
    "    return final_graph \n",
    "\n",
    "#call function to make bar chart shaped data for renters and homeowners \n",
    "pivot_rent_2010 =make_income_chart_correct(df_rent_burden_chart,\"gross_rent_percent\",2010)\n",
    "pivot_rent_2019 =make_income_chart_correct(df_rent_burden_chart,\"gross_rent_percent\",2019)\n",
    "\n",
    "pivot_mortgage_2010 =make_income_chart_correct(df_mortgage_burden_chart,\"select_owner_cost_percent\",2010)\n",
    "pivot_mortgage_2019 =make_income_chart_correct(df_mortgage_burden_chart,\"select_owner_cost_percent\",2019)"
   ]
  },
  {
   "cell_type": "code",
   "execution_count": 113,
   "id": "4cdb0690",
   "metadata": {},
   "outputs": [],
   "source": [
    "#combine 2010 and 2019 data \n",
    "all_together = pd.concat([pivot_rent_2019,pivot_rent_2010,pivot_mortgage_2010,pivot_mortgage_2019])\n",
    "all_together.rename(columns={\"value\":\"Total Households\",\n",
    "                            \"variable\":\"AMI\"},inplace=True)\n",
    "all_together[\"Total Households\"] = all_together[\"Total Households\"].round(0)"
   ]
  },
  {
   "cell_type": "code",
   "execution_count": 114,
   "id": "6edd2c16",
   "metadata": {},
   "outputs": [],
   "source": [
    "all_together_renter = all_together[all_together[\"Household Type\"]==\"Renter\"]\n",
    "all_together_owner = all_together[all_together[\"Household Type\"]==\"Mortgage Holder\"]\n",
    "all_together_renter = all_together_renter[all_together_renter.AMI == \"Middle Income\"]"
   ]
  },
  {
   "cell_type": "markdown",
   "id": "a5d87cc8",
   "metadata": {},
   "source": [
    "<div id=\"section1\"></div>\n",
    "\n",
    "# Renter and Homeowner Cost Burden "
   ]
  },
  {
   "cell_type": "markdown",
   "id": "b334c4f3",
   "metadata": {},
   "source": [
    "### Figure 3A "
   ]
  },
  {
   "cell_type": "code",
   "execution_count": 115,
   "id": "a7f1fdf1",
   "metadata": {},
   "outputs": [
    {
     "data": {
      "application/vnd.vegalite.v4+json": {
       "$schema": "https://vega.github.io/schema/vega-lite/v4.8.1.json",
       "config": {
        "axis": {
         "domain": false,
         "labelFont": "Georgia",
         "labelFontSize": 15,
         "titleFont": "Georgia",
         "titleFontSize": 15,
         "titleFontWeight": "normal"
        },
        "legend": {
         "direction": "vertical",
         "labelFont": "Georgia",
         "labelFontSize": 20,
         "labelLimit": 0,
         "orient": "bottom",
         "titleFont": "Georgia",
         "titleFontSize": 18,
         "titleLimit": 0
        },
        "title": {
         "anchor": "middle",
         "font": "Georgia",
         "fontSize": 20
        },
        "view": {
         "continuousHeight": 300,
         "continuousWidth": 400
        }
       },
       "data": {
        "name": "data-ed59b7f26591001fc2d03d42dc1353c9"
       },
       "datasets": {
        "data-ed59b7f26591001fc2d03d42dc1353c9": [
         {
          "Household Type": "Renter",
          "Status": "Burdened",
          "percent": 14.78309743513759,
          "value": 10074568.853500316,
          "variable": "Extremely Low Income",
          "year": 2019
         },
         {
          "Household Type": "Renter",
          "Status": "Severely Burdened",
          "percent": 76.97389997429597,
          "value": 52457129.40850095,
          "variable": "Extremely Low Income",
          "year": 2019
         },
         {
          "Household Type": "Renter",
          "Status": "Burdened",
          "percent": 41.50508417658511,
          "value": 23546643.38249958,
          "variable": "Low Income",
          "year": 2019
         },
         {
          "Household Type": "Renter",
          "Status": "Severely Burdened",
          "percent": 27.085635497953383,
          "value": 15366209.044300117,
          "variable": "Low Income",
          "year": 2019
         },
         {
          "Household Type": "Renter",
          "Status": "Burdened",
          "percent": 38.690943651993834,
          "value": 19854614.829100188,
          "variable": "Middle Income",
          "year": 2019
         },
         {
          "Household Type": "Renter",
          "Status": "Severely Burdened",
          "percent": 10.006501660768857,
          "value": 5134928.68120002,
          "variable": "Middle Income",
          "year": 2019
         },
         {
          "Household Type": "Renter",
          "Status": "Burdened",
          "percent": 34.43489096922245,
          "value": 14028148.069700269,
          "variable": "Very Low Income",
          "year": 2019
         },
         {
          "Household Type": "Renter",
          "Status": "Severely Burdened",
          "percent": 48.45134315859921,
          "value": 19738195.675199963,
          "variable": "Very Low Income",
          "year": 2019
         }
        ]
       },
       "encoding": {
        "color": {
         "field": "Status",
         "scale": {
          "domain": [
           "Burdened",
           "Severely Burdened"
          ],
          "range": [
           "#4E748B",
           "#FFB81D"
          ]
         },
         "title": null,
         "type": "nominal"
        },
        "order": {
         "field": "Status",
         "sort": "ascending",
         "type": "nominal"
        },
        "x": {
         "axis": {
          "labelAngle": -45
         },
         "field": "variable",
         "sort": [
          "Extremely Low Income",
          "Very Low Income",
          "Low Income",
          "Middle Income"
         ],
         "title": "",
         "type": "ordinal"
        },
        "y": {
         "field": "percent",
         "scale": {
          "domain": [
           0,
           100
          ]
         },
         "sort": [
          "Burdened",
          "Severely Burdened"
         ],
         "title": "Percent of Renter Households",
         "type": "quantitative"
        }
       },
       "mark": "bar",
       "title": {
        "text": [
         "Renter Cost Burden"
        ]
       },
       "width": 650
      },
      "image/png": "[encoded data removed]",
      "text/plain": [
       "alt.Chart(...)"
      ]
     },
     "execution_count": 115,
     "metadata": {},
     "output_type": "execute_result"
    }
   ],
   "source": [
    "#Figure 3A\n",
    "pivot_rent_2019 = pivot_rent_2019[pivot_rent_2019.variable != \"All Incomes\"]\n",
    "pivot_rent_2019.replace({\"Status\":{\"Share Burdened\":\"Burdened\",\n",
    "                                         \"Share Severely Burdened\":\"Severely Burdened\" }},inplace=True)\n",
    "\n",
    "alt.Chart(pivot_rent_2019).mark_bar().encode(\n",
    "    alt.X('variable:O',sort=[\"Extremely Low Income\", \"Very Low Income\", \"Low Income\", \"Middle Income\"],title=\"\",axis=alt.Axis( labelAngle=-45)),\n",
    "    y=alt.Y('percent:Q',sort=[\"Burdened\",\"Severely Burdened\"],title=\"Percent of Renter Households\", scale=alt.Scale(domain=[0, 100])),\n",
    "    color=alt.Color(\"Status\",title=None,scale=alt.Scale(domain=[\"Burdened\",\"Severely Burdened\"],range=[\"#4E748B\",\"#FFB81D\"])),\n",
    "    order=alt.Order(\n",
    "      'Status',\n",
    "      sort='ascending'\n",
    "    )).properties(\n",
    "    title={\n",
    "      \"text\": [\"Renter Cost Burden\"]}).configure_title(fontSize=20,anchor=\"middle\",font=\"Georgia\").configure_legend(direction=\"vertical\",orient=\"bottom\",labelLimit= 0,titleLimit=0,titleFontSize=18,\n",
    "labelFontSize=20,labelFont=\"Georgia\",titleFont=\"Georgia\").configure_axis(domain=False,labelFont='Georgia',titleFont='Georgia',titleFontWeight=\"normal\",labelFontSize=15,titleFontSize=15).properties(\n",
    "    width=650\n",
    ")\n"
   ]
  },
  {
   "cell_type": "markdown",
   "id": "ba64fcc1",
   "metadata": {},
   "source": [
    "### Figure 3B"
   ]
  },
  {
   "cell_type": "code",
   "execution_count": 116,
   "id": "f15264be",
   "metadata": {},
   "outputs": [
    {
     "data": {
      "application/vnd.vegalite.v4+json": {
       "$schema": "https://vega.github.io/schema/vega-lite/v4.8.1.json",
       "config": {
        "axis": {
         "domain": false,
         "labelFont": "Georgia",
         "labelFontSize": 15,
         "titleFont": "Georgia",
         "titleFontSize": 15,
         "titleFontWeight": "normal"
        },
        "legend": {
         "direction": "vertical",
         "labelFont": "Georgia",
         "labelFontSize": 20,
         "labelLimit": 0,
         "orient": "bottom",
         "titleFont": "Georgia",
         "titleFontSize": 18,
         "titleLimit": 0
        },
        "title": {
         "anchor": "middle",
         "font": "Georgia",
         "fontSize": 20
        },
        "view": {
         "continuousHeight": 300,
         "continuousWidth": 400
        }
       },
       "data": {
        "name": "data-fd0142a3a71581469bdc9a1ef809dc77"
       },
       "datasets": {
        "data-fd0142a3a71581469bdc9a1ef809dc77": [
         {
          "Household Type": "Mortgage Holder",
          "Status": "Share Burdened",
          "percent": 14.41817848036887,
          "value": 4328512.635500313,
          "variable": "Extremely Low Income",
          "year": 2019
         },
         {
          "Household Type": "Mortgage Holder",
          "Status": "Share Severely Burdened",
          "percent": 67.80158936916376,
          "value": 20354862.21030056,
          "variable": "Extremely Low Income",
          "year": 2019
         },
         {
          "Household Type": "Mortgage Holder",
          "Status": "Share Burdened",
          "percent": 25.755313115485173,
          "value": 12657348.625299921,
          "variable": "Low Income",
          "year": 2019
         },
         {
          "Household Type": "Mortgage Holder",
          "Status": "Share Severely Burdened",
          "percent": 22.085992977113257,
          "value": 10854075.490900204,
          "variable": "Low Income",
          "year": 2019
         },
         {
          "Household Type": "Mortgage Holder",
          "Status": "Share Burdened",
          "percent": 26.651159790755262,
          "value": 15341457.621100435,
          "variable": "Middle Income",
          "year": 2019
         },
         {
          "Household Type": "Mortgage Holder",
          "Status": "Share Severely Burdened",
          "percent": 12.194462760968474,
          "value": 7019613.222400165,
          "variable": "Middle Income",
          "year": 2019
         },
         {
          "Household Type": "Mortgage Holder",
          "Status": "Share Burdened",
          "percent": 23.57632755439138,
          "value": 6610073.982899943,
          "variable": "Very Low Income",
          "year": 2019
         },
         {
          "Household Type": "Mortgage Holder",
          "Status": "Share Severely Burdened",
          "percent": 35.71476755820127,
          "value": 10013317.608399654,
          "variable": "Very Low Income",
          "year": 2019
         }
        ]
       },
       "encoding": {
        "color": {
         "field": "Status",
         "scale": {
          "domain": [
           "Share Severely Burdened",
           "Share Burdened"
          ],
          "range": [
           "#FFB81D",
           "#4E748B"
          ]
         },
         "sort": [
          "Share Severely Burdened",
          "Share Burdened"
         ],
         "title": null,
         "type": "nominal"
        },
        "order": {
         "field": "Status",
         "sort": "ascending",
         "type": "nominal"
        },
        "x": {
         "axis": {
          "labelAngle": -45
         },
         "field": "variable",
         "sort": [
          "Extremely Low Income",
          "Very Low Income",
          "Low Income",
          "Middle Income",
          "All Incomes"
         ],
         "title": "",
         "type": "ordinal"
        },
        "y": {
         "field": "percent",
         "scale": {
          "domain": [
           0,
           100
          ]
         },
         "sort": [
          "Severely Cost Burdened",
          "Cost Burdened"
         ],
         "title": "Percent of Homeowner Households",
         "type": "quantitative"
        }
       },
       "mark": "bar",
       "title": {
        "text": [
         "Homeowner Cost Burden"
        ]
       },
       "width": 650
      },
      "image/png": "[encoded data removed]",
      "text/plain": [
       "alt.Chart(...)"
      ]
     },
     "execution_count": 116,
     "metadata": {},
     "output_type": "execute_result"
    }
   ],
   "source": [
    "#Figure 3B\n",
    "pivot_mortgage_2019 = pivot_mortgage_2019[pivot_mortgage_2019.variable != \"All Incomes\"]\n",
    "pivot_mortgage_2019.replace({\"Status\":{\"Burdened\":\"Cost Burdened\",\n",
    "\"Severely Burdened\":\"Severely Cost Burdened\" }},inplace=True)\n",
    "\n",
    "alt.Chart(pivot_mortgage_2019).mark_bar().encode(\n",
    "    alt.X('variable:O',sort=[\"Extremely Low Income\", \"Very Low Income\", \"Low Income\", \"Middle Income\", \"All Incomes\"],title=\"\",axis=alt.Axis( labelAngle=-45)),\n",
    "    y=alt.Y('percent:Q',sort=[\"Severely Cost Burdened\",\"Cost Burdened\"],title=\"Percent of Homeowner Households\", scale=alt.Scale(domain=[0, 100])),\n",
    "    color=alt.Color(\"Status\",sort=[\"Share Severely Burdened\",\"Share Burdened\"],title=None,scale=alt.Scale(domain=[\"Share Severely Burdened\",\"Share Burdened\"],range=[\"#FFB81D\",\"#4E748B\"])),\n",
    "    order=alt.Order(\n",
    "      'Status',\n",
    "      sort='ascending'\n",
    "    )).properties(\n",
    "    title={\n",
    "      \"text\": [\"Homeowner Cost Burden\"]}).configure_title(fontSize=20,anchor=\"middle\",font=\"Georgia\").configure_legend(direction=\"vertical\",orient=\"bottom\",labelLimit= 0,titleLimit=0,titleFontSize=18,\n",
    "labelFontSize=20,labelFont=\"Georgia\",titleFont=\"Georgia\").configure_axis(domain=False,labelFont='Georgia',titleFont='Georgia',titleFontWeight=\"normal\",labelFontSize=15,titleFontSize=15).properties(\n",
    "    width=650\n",
    ")"
   ]
  },
  {
   "cell_type": "markdown",
   "id": "e6a4fd69",
   "metadata": {},
   "source": [
    "<div id=\"section2\"></div>\n",
    "\n",
    "\n",
    "# Figure 4 data prep "
   ]
  },
  {
   "cell_type": "code",
   "execution_count": 117,
   "id": "d8c94e60",
   "metadata": {},
   "outputs": [],
   "source": [
    "#get individual level PUMS data (above we were using household level)\n",
    "df_2019_person = check_for_PUMS_download('./psam_p06.csv',\"https://www2.census.gov/programs-surveys/acs/data/pums/2019/1-Year/csv_pca.zip\",\"./pums_2019.zip\")"
   ]
  },
  {
   "cell_type": "code",
   "execution_count": 118,
   "id": "5eaa8238",
   "metadata": {},
   "outputs": [],
   "source": [
    "#filter for adults, relabel race data \n",
    "df_2019_person_over_18 = df_2019_person[df_2019_person.AGEP>=18]\n",
    "def fix_race(race,ethnicity):\n",
    "    \"\"\"\n",
    "    used in a lambda function to combine race and ethnicity columns in eden demographic data \n",
    "    \"\"\"\n",
    "    if ethnicity > 1:\n",
    "        return \"Hispanic\"\n",
    "    elif race == 1:\n",
    "        return \"NH White\"\n",
    "    elif race == 6:\n",
    "        return \"NH Asian\"\n",
    "    elif race == 2:\n",
    "        return \"NH Black\"\n",
    "    else:\n",
    "        return \"Other\"\n",
    "df_2019_person_over_18[\"Race_Coded\"] = df_2019_person_over_18.apply(lambda x: fix_race(x.RAC1P,x.HISP),axis=1)\n",
    "df_2019_person_over_18[\"person_id\"] = np.arange"
   ]
  },
  {
   "cell_type": "code",
   "execution_count": 119,
   "id": "85a42a2f",
   "metadata": {},
   "outputs": [],
   "source": [
    "#here I am keeping only heads of household to mark as household race \n",
    "df_2019_person_over_18=df_2019_person_over_18[df_2019_person_over_18[\"RELSHIPP\"] == 20]\n",
    "df_2019_person_over_18 = df_2019_person_over_18[[\"SERIALNO\",\"Race_Coded\",\"WAGP\"]]\n",
    "#sort by serialno, wage desc, and then drop duplicates on serial no \n",
    "#household_race = df_2019_person_over_18[[\"SERIALNO\",\"Race_Coded\",\"WAGP\"]].sort_values([\"SERIALNO\",\"WAGP\"],ascending=False).drop_duplicates(subset=\"SERIALNO\")\n",
    "\n",
    "merged = df_2019.merge(df_2019_person_over_18,on=\"SERIALNO\")"
   ]
  },
  {
   "cell_type": "code",
   "execution_count": 120,
   "id": "30676357",
   "metadata": {},
   "outputs": [],
   "source": [
    "#make tenure verbose\n",
    "merged.replace({\"tenure\":{1:\"Owned with Mortgage\",2:\"Owned Free and Clear\",3:\"Rented\",4:\"Occupied without Payment of Rent\"}},inplace=True)"
   ]
  },
  {
   "cell_type": "code",
   "execution_count": 121,
   "id": "276b527f",
   "metadata": {},
   "outputs": [],
   "source": [
    "#merge on AMI data, cleaned above for use in charts 3\n",
    "merged_AMI = pd.merge(merged, amelti, on=['county_name', 'ppl_in_hh'], how='left')"
   ]
  },
  {
   "cell_type": "code",
   "execution_count": 122,
   "id": "c2193088",
   "metadata": {},
   "outputs": [],
   "source": [
    "#filter for 2019 \n",
    "merged_AMI = merged_AMI[merged_AMI.year_y == 2019]"
   ]
  },
  {
   "cell_type": "code",
   "execution_count": 123,
   "id": "68f99576",
   "metadata": {},
   "outputs": [],
   "source": [
    "def label_ami_band(ELI30,VLI50,LI80,MED100,MOD120,hh_income):\n",
    "    if hh_income <= ELI30:\n",
    "        return \"ELI\"\n",
    "    if hh_income <= VLI50:\n",
    "        return \"VLI\"\n",
    "    if hh_income <= LI80:\n",
    "        return \"LI\"\n",
    "#    if hh_income <= MED100:\n",
    "#        return \"MED\"\n",
    "    if hh_income <= MOD120:\n",
    "        return \"MOD\"\n",
    "    else:\n",
    "        return \"HIGH\"\n",
    "    \n",
    "#label income bands \n",
    "merged_AMI['income_band_label'] = merged_AMI.apply(lambda x: label_ami_band(x.ELI30,x.VLI50,x.LI80,x.MED100,x.MOD120,x.hh_income), axis=1)\n"
   ]
  },
  {
   "cell_type": "code",
   "execution_count": 124,
   "id": "c26c43e5",
   "metadata": {},
   "outputs": [],
   "source": [
    "#Output csv for carolina of income band by race \n",
    "#by_county_race_ami = merged_AMI.groupby([\"Race_Coded\",\"income_band_label\",\"tenure\",\"county_name\"]).sum().reset_index()\n",
    "#overall_race_ami = merged_AMI.groupby([\"Race_Coded\",\"income_band_label\",\"tenure\"]).sum().reset_index()\n",
    "#by_county_race_ami.rename(columns={\"weight\":\"Number of Households\"},inplace=True)\n",
    "#by_county_race_ami.round().to_csv(\"race_county_AMI_tenure_count_v3.csv\")\n",
    "#by_county_race_ami.to_csv(\"race_county_AMI_tenure_count_v2.csv\")\n",
    "#overall_race_ami.to_csv(\"race_AMI_tenure_count.csv\")\n",
    "#overall_race_ami_renters = overall_race_ami[overall_race_ami.tenure == \"Rented\"]\n",
    "#totals = overall_race_ami_renters.groupby(\"income_band_label\").sum().reset_index()\n",
    "#totals.rename(columns={\"weight\":\"totals\"},inplace=True)\n",
    "#overall_race_ami_renters = overall_race_ami_renters.merge(totals,how=\"left\",on=\"income_band_label\")\n",
    "#overall_race_ami_renters[\"percent\"] = overall_race_ami_renters[\"weight\"] /  overall_race_ami_renters[\"totals\"]\n",
    "#overall_race_ami_renters.sort_values(\"income_band_label\").to_csv(\"percent_renters_by_AMI_race.csv\")"
   ]
  },
  {
   "cell_type": "code",
   "execution_count": 125,
   "id": "4ba22149",
   "metadata": {},
   "outputs": [],
   "source": [
    "#filter for middle income\n",
    "merged_AMI = merged_AMI[[\"Race_Coded\",\"weight\",\"county_name\",\"income_band_label\",\"tenure\",\"hh_income\"]]\n",
    "#merged_AMI['middle_income'] = np.where((merged_AMI[\"hh_income\"] >= merged_AMI[\"LI80\"])&(merged_AMI[\"hh_income\"] < merged_AMI[\"MOD120\"]), 1, 0)\n",
    "merged_AMI_mid = merged_AMI[merged_AMI.income_band_label == \"MOD\"]\n",
    "merged_AMI_mid = merged_AMI_mid.loc[:,~merged_AMI_mid.columns.duplicated()]\n",
    "merged_AMI_mid = merged_AMI_mid[merged_AMI_mid.tenure != \"Occupied without Payment of Rent\"]\n",
    "merged_AMI_mid = merged_AMI_mid[[\"Race_Coded\",\"tenure\",\"weight\"]].groupby([\"Race_Coded\",\"tenure\"]).sum().reset_index()\n",
    "merged_AMI_mid_race_totals = merged_AMI_mid.groupby([\"Race_Coded\"]).sum().reset_index()\n",
    "merged_AMI_mid = merged_AMI_mid.merge(merged_AMI_mid_race_totals,on=\"Race_Coded\",how=\"left\")\n",
    "merged_AMI_mid[\"percentage\"] = (merged_AMI_mid[\"weight_x\"]/merged_AMI_mid[\"weight_y\"])*100\n",
    "merged_AMI_mid = merged_AMI_mid.drop(columns=[\"weight_x\",\"weight_y\"])\n",
    "merged_AMI_mid_renter = merged_AMI_mid[merged_AMI_mid.tenure == \"Rented\"]\n",
    "merged_AMI_mid_renter.replace({\"Race_Coded\":{\"NH Asian\":\"Non-Hispanic Asian\",\n",
    "                                            \"NH Black\":\"Non-Hispanic Black\",\n",
    "                                            \"NH White\":\"Non-Hispanic White\",\n",
    "                                            \"Other\":\"Native Hawaiian, American Indian\"}},inplace=True)"
   ]
  },
  {
   "cell_type": "markdown",
   "id": "2cf0271b",
   "metadata": {},
   "source": [
    "<div id=\"section3\"></div>\n",
    "\n",
    "\n",
    "# Figure 4: Share of Middle-Income Renters Paying More than 30% of Income in Rent, 2010 & 2019, by Race"
   ]
  },
  {
   "cell_type": "code",
   "execution_count": 126,
   "id": "f27fac4a",
   "metadata": {},
   "outputs": [
    {
     "data": {
      "application/vnd.vegalite.v4+json": {
       "$schema": "https://vega.github.io/schema/vega-lite/v4.8.1.json",
       "config": {
        "axis": {
         "domain": false,
         "labelFont": "Georgia",
         "labelFontSize": 15,
         "titleFont": "Georgia",
         "titleFontSize": 15,
         "titleFontWeight": "normal"
        },
        "legend": {
         "direction": "vertical",
         "labelFont": "Georgia",
         "labelFontSize": 20,
         "labelLimit": 0,
         "titleFont": "Georgia",
         "titleFontSize": 18,
         "titleLimit": 0
        },
        "view": {
         "continuousHeight": 300,
         "continuousWidth": 400
        }
       },
       "data": {
        "name": "data-d09e2fce86dd9696530c90d9901ac125"
       },
       "datasets": {
        "data-d09e2fce86dd9696530c90d9901ac125": [
         {
          "Race_Coded": "Hispanic",
          "percentage": 49.36709665561176,
          "tenure": "Rented"
         },
         {
          "Race_Coded": "Non-Hispanic Asian",
          "percentage": 38.815461560765094,
          "tenure": "Rented"
         },
         {
          "Race_Coded": "Non-Hispanic Black",
          "percentage": 59.38679588718271,
          "tenure": "Rented"
         },
         {
          "Race_Coded": "Non-Hispanic White",
          "percentage": 37.85817826629574,
          "tenure": "Rented"
         },
         {
          "Race_Coded": "Native Hawaiian, American Indian",
          "percentage": 54.699046410555574,
          "tenure": "Rented"
         }
        ]
       },
       "encoding": {
        "color": {
         "field": "Race_Coded",
         "scale": {
          "domain": [
           "Non-Hispanic Black",
           "Native Hawaiian, American Indian",
           "Hispanic",
           "Non-Hispanic Asian",
           "Non-Hispanic White"
          ],
          "range": [
           "#4E748B",
           "#B7B09D",
           "#00B3E3",
           "#FFB81D",
           "#011E41"
          ]
         },
         "title": "",
         "type": "ordinal"
        },
        "x": {
         "axis": {
          "labelAngle": -45,
          "labels": false
         },
         "field": "Race_Coded",
         "sort": "-y",
         "title": " ",
         "type": "ordinal"
        },
        "y": {
         "field": "percentage",
         "title": "Percent of Middle-Income Households",
         "type": "quantitative"
        }
       },
       "mark": "bar",
       "width": 300
      },
      "image/png": "[encoded data removed]",
      "text/plain": [
       "alt.Chart(...)"
      ]
     },
     "execution_count": 126,
     "metadata": {},
     "output_type": "execute_result"
    }
   ],
   "source": [
    "alt.Chart(merged_AMI_mid_renter).mark_bar().encode(\n",
    "    alt.X('Race_Coded:O',title=\" \",sort=\"-y\",axis=alt.Axis( labelAngle=-45,labels=False)),\n",
    "    alt.Y('percentage',title=\"Percent of Middle-Income Households\"),\n",
    "    color=alt.Color('Race_Coded:O',title=\"\",scale=alt.Scale(domain=[\n",
    "                        \"Non-Hispanic Black\",\"Native Hawaiian, American Indian\",\"Hispanic\",\n",
    "                        \"Non-Hispanic Asian\",\n",
    "                        \"Non-Hispanic White\",\n",
    "                                        \n",
    "                                \n",
    "                               \n",
    "                            ],range=[\"#4E748B\",\n",
    "\n",
    "\"#B7B09D\",\n",
    "\"#00B3E3\",\n",
    "\"#FFB81D\",\n",
    "\"#011E41\"]))).configure_legend(direction=\"vertical\",labelLimit= 0,titleLimit=0,titleFontSize=18,\n",
    "labelFontSize=20,labelFont=\"Georgia\",titleFont=\"Georgia\").configure_axis(domain=False,labelFont='Georgia',titleFont='Georgia',titleFontWeight=\"normal\",labelFontSize=15,titleFontSize=15).properties(\n",
    "    width=300\n",
    ")"
   ]
  }
 ],
 "metadata": {
  "kernelspec": {
   "display_name": "Python 3",
   "language": "python",
   "name": "python3"
  },
  "language_info": {
   "codemirror_mode": {
    "name": "ipython",
    "version": 3
   },
   "file_extension": ".py",
   "mimetype": "text/x-python",
   "name": "python",
   "nbconvert_exporter": "python",
   "pygments_lexer": "ipython3",
   "version": "3.9.9"
  }
 },
 "nbformat": 4,
 "nbformat_minor": 5
}
